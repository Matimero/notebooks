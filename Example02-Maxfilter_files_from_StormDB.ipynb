{
 "cells": [
  {
   "cell_type": "code",
   "execution_count": 1,
   "metadata": {
    "collapsed": true
   },
   "outputs": [],
   "source": [
    "proj_code = 'MINDLAB2013_01-MEG-AttentionEmotionVisualTracking'"
   ]
  },
  {
   "cell_type": "code",
   "execution_count": 2,
   "metadata": {
    "collapsed": false
   },
   "outputs": [],
   "source": [
    "from stormdb.access import Query\n",
    "from stormdb.process import Maxfilter\n",
    "\n",
    "qy=Query(proj_code)\n",
    "mf=Maxfilter(proj_code)"
   ]
  },
  {
   "cell_type": "code",
   "execution_count": 3,
   "metadata": {
    "collapsed": false
   },
   "outputs": [
    {
     "name": "stderr",
     "output_type": "stream",
     "text": [
      ":0: FutureWarning: IPython widgets are experimental and may change in the future.\n"
     ]
    }
   ],
   "source": [
    "from interactive_widgets import InteractiveQuery, InteractiveMaxfilter"
   ]
  },
  {
   "cell_type": "code",
   "execution_count": 4,
   "metadata": {
    "collapsed": false
   },
   "outputs": [],
   "source": [
    "iaQ = InteractiveQuery(qy)\n",
    "iaQ.display()"
   ]
  },
  {
   "cell_type": "code",
   "execution_count": 5,
   "metadata": {
    "collapsed": false
   },
   "outputs": [],
   "source": [
    "mf = Maxfilter(proj_code, verbose=True)"
   ]
  },
  {
   "cell_type": "code",
   "execution_count": 6,
   "metadata": {
    "collapsed": false,
    "scrolled": true
   },
   "outputs": [
    {
     "name": "stdout",
     "output_type": "stream",
     "text": [
      "maxfilter -f foo -o bar -frame head -origin  -v -autobad off \n",
      "maxfilter -f foo -o bar -frame head -origin 3.6 14.8 42.8 -v -autobad off \n"
     ]
    }
   ],
   "source": [
    "iaMF = InteractiveMaxfilter(iaQ.info, mf)\n",
    "iaMF.display()"
   ]
  },
  {
   "cell_type": "code",
   "execution_count": 7,
   "metadata": {
    "collapsed": false
   },
   "outputs": [
    {
     "name": "stdout",
     "output_type": "stream",
     "text": [
      "Command to run:\n",
      "OMP_NUM_THREADS=1 maxfilter -f foo -o bar -frame head -origin 3.6 14.8 42.8 -v -autobad off \n",
      "Command to run:\n",
      "OMP_NUM_THREADS=1 maxfilter -f foo -o bar -frame head -origin 3.6 14.8 42.8 -v -autobad off \n",
      "Are you sure you want to run this? [y/N] N\n",
      "Nothing executed.\n",
      "Nothing executed.\n"
     ]
    }
   ],
   "source": [
    "mf.apply_cmd()"
   ]
  },
  {
   "cell_type": "code",
   "execution_count": null,
   "metadata": {
    "collapsed": true
   },
   "outputs": [],
   "source": []
  }
 ],
 "metadata": {
  "kernelspec": {
   "display_name": "Python 3",
   "language": "python",
   "name": "python3"
  },
  "language_info": {
   "codemirror_mode": {
    "name": "ipython",
    "version": 3
   },
   "file_extension": ".py",
   "mimetype": "text/x-python",
   "name": "python",
   "nbconvert_exporter": "python",
   "pygments_lexer": "ipython3",
   "version": "3.4.3"
  }
 },
 "nbformat": 4,
 "nbformat_minor": 0
}
