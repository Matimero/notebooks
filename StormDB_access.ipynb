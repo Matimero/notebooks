{
 "cells": [
  {
   "cell_type": "code",
   "execution_count": 1,
   "metadata": {
    "collapsed": false
   },
   "outputs": [
    {
     "data": {
      "text/plain": [
       "'isis'"
      ]
     },
     "execution_count": 1,
     "metadata": {},
     "output_type": "execute_result"
    }
   ],
   "source": [
    "import socket\n",
    "socket.gethostname()"
   ]
  },
  {
   "cell_type": "code",
   "execution_count": 2,
   "metadata": {
    "collapsed": false
   },
   "outputs": [
    {
     "name": "stderr",
     "output_type": "stream",
     "text": [
      "/usr/local/common/anaconda/envs/py3/lib/python3.4/site-packages/IPython/html.py:14: ShimWarning: The `IPython.html` package has been deprecated. You should import from `notebook` instead. `IPython.html.widgets` has moved to `ipywidgets`.\n",
      "  \"`IPython.html.widgets` has moved to `ipywidgets`.\", ShimWarning)\n"
     ]
    }
   ],
   "source": [
    "from IPython.html import widgets\n",
    "from IPython.html.widgets import interact\n",
    "from IPython.display import display"
   ]
  },
  {
   "cell_type": "code",
   "execution_count": 3,
   "metadata": {
    "collapsed": true
   },
   "outputs": [],
   "source": [
    "proj_code = 'MINDLAB2013_01-MEG-AttentionEmotionVisualTracking'"
   ]
  },
  {
   "cell_type": "code",
   "execution_count": 4,
   "metadata": {
    "collapsed": false
   },
   "outputs": [],
   "source": [
    "from stormdb.access import Query\n",
    "db=Query(proj_code)"
   ]
  },
  {
   "cell_type": "code",
   "execution_count": 6,
   "metadata": {
    "collapsed": false
   },
   "outputs": [
    {
     "data": {
      "text/plain": [
       "None"
      ]
     },
     "metadata": {},
     "output_type": "display_data"
    }
   ],
   "source": [
    "subj_dd  = widgets.Dropdown(options=['']+db.get_subjects(), description='Subject ID')\n",
    "modality = widgets.RadioButtons(options=['MEG','MR'], description='Modality', visible=True)\n",
    "study_dd = widgets.Dropdown(options=['---'], description='Study date', visible=True)\n",
    "series_dd = widgets.Dropdown(options=dict([['---','0']]), description='Series name', visible=True)\n",
    "files_list = widgets.Textarea(description=\"Files\", disabled=True, visible=True)\n",
    "\n",
    "info = dict(subj_id='', modality='MEG', study='---', series=0)\n",
    "\n",
    "def get_studies(subj_id, modality):\n",
    "    if len(subj_id) > 0:\n",
    "        # These need to be up-front, since study_dd and series_dd .options\n",
    "        # get set below, WHICH TRIGGERS THEIR CALLBACKS!!\n",
    "        info['subj_id'] = subj_id\n",
    "        info['modality'] = modality\n",
    "\n",
    "        studs = db.get_studies(subj_id, modality=modality, unique=False)\n",
    "        if len(studs) > 0:\n",
    "            if type(studs) is str:\n",
    "                studs = [studs,]\n",
    "            study_dd.options = ['---'] + studs\n",
    "            series_dd.options = dict([['---','0']])\n",
    "        else:\n",
    "            study_dd.options = ['---',]\n",
    "\n",
    "        files_list.value = ''\n",
    "            \n",
    "def get_series(study):\n",
    "    if not study == '---':\n",
    "        series_dict = db.get_series(info['subj_id'], study, info['modality'])\n",
    "        series_dict.update({'---': '0'})\n",
    "        series_dd.options = sorted(series_dict.items(), key=lambda t: t[1])\n",
    "        info['study'] = study\n",
    "    else:\n",
    "        series_dd.options = {'---': '0'}\n",
    "        files_list.value = ''\n",
    "\n",
    "def get_files(series):\n",
    "    if int(series) > 0:\n",
    "        rawfiles = db.get_files(info['subj_id'], info['study'], \n",
    "                                info['modality'], series)\n",
    "        files_list.value = \"\\n\".join(rawfiles) if type(rawfiles) is list else ''\n",
    "        info['series'] = int(series)\n",
    "    else:\n",
    "        files_list.value = ''\n",
    "\n",
    "subj_i  = widgets.interactive(get_studies, subj_id=subj_dd, modality=modality)\n",
    "study_i = widgets.interactive(get_series, study=study_dd)\n",
    "series_i = widgets.interactive(get_files, series=series_dd)\n",
    "\n",
    "display(subj_i)\n",
    "display(study_i)\n",
    "display(series_i)\n",
    "display(files_list)"
   ]
  }
 ],
 "metadata": {
  "kernelspec": {
   "display_name": "Python 3",
   "language": "python",
   "name": "python3"
  },
  "language_info": {
   "codemirror_mode": {
    "name": "ipython",
    "version": 3
   },
   "file_extension": ".py",
   "mimetype": "text/x-python",
   "name": "python",
   "nbconvert_exporter": "python",
   "pygments_lexer": "ipython3",
   "version": "3.4.3"
  }
 },
 "nbformat": 4,
 "nbformat_minor": 0
}
