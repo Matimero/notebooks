{
 "cells": [
  {
   "cell_type": "markdown",
   "metadata": {},
   "source": [
    "# Extraction of stimulus delay data.\n",
    "In this notebook you will be able to find the delay of audio and video. The two delays will be shown on different figures as histograms.\n",
    "\n",
    "## how?\n",
    "### Visual delay\n",
    "1. First the right methods will be imported.\n",
    "    * Here a method called \"extract_delays\" from the file \"extract_delays_meg\" from folder \"meeg\" in the path below\n",
    "2. The visual trigger code is set\n",
    "3. Then the raw file with the collected data, which is delayed, will be set.\n",
    "4. When using the methoed, the misc_channel is set to MISC001, as standard, which is for the diode output.\n",
    "    * This diode output detects every time the screen changes.\n",
    "5. When done, it will show 2 figures for the delay of visual stimulation.\n",
    "\n",
    "### Audio delay\n",
    "1. The trigger code gets changed, so the right trigger data is used\n",
    "2. The misc_channel is set to MISC002. This is a copy of the soundcard output from the STIMpc.\n",
    "3. When done, it will show 2 figures for the delay of audio stimulation.\n"
   ]
  },
  {
   "cell_type": "code",
   "execution_count": null,
   "metadata": {
    "collapsed": true
   },
   "outputs": [],
   "source": [
    "%matplotlib inline"
   ]
  },
  {
   "cell_type": "code",
   "execution_count": null,
   "metadata": {
    "collapsed": false
   },
   "outputs": [],
   "source": [
    "from stormdb.access import Query\n",
    "from os.path import join\n",
    "from meeg.extract_delays_MEG import extract_delays"
   ]
  },
  {
   "cell_type": "markdown",
   "metadata": {},
   "source": [
    "### File layout\n",
    "For the cell below \n",
    "* Set `vis_trig_code` to the correct visual trigger code\n",
    "* Set `proj_name` to the correct project name"
   ]
  },
  {
   "cell_type": "code",
   "execution_count": null,
   "metadata": {
    "collapsed": true
   },
   "outputs": [],
   "source": [
    "vis_trig_code = 2\n",
    "proj_name = 'MEG_service'"
   ]
  },
  {
   "cell_type": "code",
   "execution_count": null,
   "metadata": {
    "collapsed": false
   },
   "outputs": [],
   "source": [
    "qy = Query(proj_name)\n",
    "plot_figures = True"
   ]
  },
  {
   "cell_type": "markdown",
   "metadata": {},
   "source": [
    "### Commands for retrieving raw data\n",
    "* We'll retrieve the raw data from the StormDB\n",
    "    * To find the right series/raw data, you can:\n",
    "        1. Log in to StormDB\n",
    "        2. Click on the project\n",
    "        3. Click on the subject\n",
    "        4. Click on the study\n",
    "        5. Find the right series\n",
    "* The `filter_series` method lets you search for parts of the path/file name.\n",
    "    * The files that is in this path, will then be put into the `filelist`\n",
    "* By writing `filelist` you can see every file/item in it.\n",
    "    * If your desired file is in the first slot of the list, you can continue to `extract_delays`\n",
    "        * Else you will have edit the `raw_fname` so you access the right file`"
   ]
  },
  {
   "cell_type": "code",
   "execution_count": null,
   "metadata": {
    "collapsed": false
   },
   "outputs": [],
   "source": [
    "filelist = qy.filter_series('aud_vis_LPT_psychopy*')\n",
    "raw_fname = join(filelist[0]['path'], filelist[0]['files'][0])"
   ]
  },
  {
   "cell_type": "markdown",
   "metadata": {},
   "source": [
    "### Visual stimuli"
   ]
  },
  {
   "cell_type": "code",
   "execution_count": null,
   "metadata": {
    "collapsed": false,
    "scrolled": true
   },
   "outputs": [],
   "source": [
    "vis_delays, vis_stats = extract_delays(raw_fname, trig_codes=vis_trig_code,\n",
    "                                       plot_figures=plot_figures,\n",
    "                                       crop_plot_time=(-0.050, 0.150))\n",
    "print('Median delay: {:.1f} ms (range: {:.1f} - {:.1f} ms)'.format(vis_stats['median'],\n",
    "                                                                   vis_delays.min(),\n",
    "                                                                   vis_delays.max()))"
   ]
  },
  {
   "cell_type": "markdown",
   "metadata": {},
   "source": [
    "### Auditory stimuli"
   ]
  },
  {
   "cell_type": "code",
   "execution_count": null,
   "metadata": {
    "collapsed": false
   },
   "outputs": [],
   "source": [
    "aud_delays, aud_stats = extract_delays(raw_fname, trig_codes=1, misc_chan='MISC002',\n",
    "                                       plot_figures=plot_figures,\n",
    "                                       crop_plot_time=(-0.050, 0.300))\n",
    "print('Median delay: {:.1f} ms (range: {:.1f} - {:.1f} ms)'.format(aud_stats['median'],\n",
    "                                                                   aud_delays.min(),\n",
    "                                                                   aud_delays.max()))"
   ]
  },
  {
   "cell_type": "markdown",
   "metadata": {
    "collapsed": true
   },
   "source": [
    "### Commands for checking data and statistic values\n",
    "* By calling `delays` you will be able to see a list of each delay\n",
    "* `stats.keys()` will let you see every possible command for statistic values\n",
    "    * F.ex `stats['median']`"
   ]
  },
  {
   "cell_type": "code",
   "execution_count": null,
   "metadata": {
    "collapsed": false
   },
   "outputs": [],
   "source": [
    "vis_stats.keys()"
   ]
  }
 ],
 "metadata": {
  "kernelspec": {
   "display_name": "Python 2",
   "language": "python",
   "name": "python2"
  },
  "language_info": {
   "codemirror_mode": {
    "name": "ipython",
    "version": 2
   },
   "file_extension": ".py",
   "mimetype": "text/x-python",
   "name": "python",
   "nbconvert_exporter": "python",
   "pygments_lexer": "ipython2",
   "version": "2.7.12"
  }
 },
 "nbformat": 4,
 "nbformat_minor": 0
}
