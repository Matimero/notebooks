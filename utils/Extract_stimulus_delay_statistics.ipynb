{
 "cells": [
  {
   "cell_type": "markdown",
   "metadata": {},
   "source": [
    "# Extraction of stimulus delay data.\n",
    "In this notebook you will be able to find the delay of audio and video. The two delays will be shown on different figures as histograms.\n",
    "\n",
    "## how?\n",
    "### Visual delay\n",
    "1. First the right methods will be imported.\n",
    "    * Here a method called \"extract_delays\" from the file \"extract_delays_meg\" from folder \"meeg\" in the path below\n",
    "2. The visual trigger code is set\n",
    "3. Then the raw file with the collected data, which is delayed, will be set.\n",
    "4. When using the methoed, the misc_channel is set to MISC001, as standard, which is for the diode output.\n",
    "    * This diode output detects every time the screen changes.\n",
    "5. When done, it will show 2 figures for the delay of visual stimulation.\n",
    "\n",
    "### Audio delay\n",
    "1. The trigger code gets changed, so the right trigger data is used\n",
    "2. The misc_channel is set to MISC002. This is a copy of the soundcard output from the STIMpc.\n",
    "3. When done, it will show 2 figures for the delay of audio stimulation.\n"
   ]
  },
  {
   "cell_type": "code",
   "execution_count": 1,
   "metadata": {
    "collapsed": true
   },
   "outputs": [],
   "source": [
    "%matplotlib qt"
   ]
  },
  {
   "cell_type": "markdown",
   "metadata": {},
   "source": [
    "### kommentar\n",
    "Filstien nedunder behøver ikke at være særlig specific, da der kun findes 1 fil der hedder extract_delays_MEG\n",
    "Det virker hvis man sletter /meeg-python og de sidste to /git/meeg-python"
   ]
  },
  {
   "cell_type": "code",
   "execution_count": 2,
   "metadata": {
    "collapsed": true
   },
   "outputs": [],
   "source": [
    "import sys\n",
    "sys.path.insert(0, '/Users/matimero/src/git/meeg-python')"
   ]
  },
  {
   "cell_type": "code",
   "execution_count": 3,
   "metadata": {
    "collapsed": true
   },
   "outputs": [],
   "source": [
    "from meeg.extract_delays_MEG import extract_delays"
   ]
  },
  {
   "cell_type": "code",
   "execution_count": 12,
   "metadata": {
    "collapsed": true
   },
   "outputs": [],
   "source": [
    "extract_delays?"
   ]
  },
  {
   "cell_type": "code",
   "execution_count": 5,
   "metadata": {
    "collapsed": true
   },
   "outputs": [],
   "source": [
    "vis_trig_code = 2\n",
    "plot_figures = True"
   ]
  },
  {
   "cell_type": "code",
   "execution_count": 6,
   "metadata": {
    "collapsed": true
   },
   "outputs": [],
   "source": [
    "raw_fname = '/projects/MEG_service/raw/0032/20160823_000000/MEG/001.aud_vis_LPT_psychopy/files/PROJ38_SUBJ0032_SER001_FILESNO1.fif'"
   ]
  },
  {
   "cell_type": "code",
   "execution_count": 7,
   "metadata": {
    "collapsed": false,
    "scrolled": true
   },
   "outputs": [
    {
     "name": "stdout",
     "output_type": "stream",
     "text": [
      "Opening raw data file /raw/sorted/MEG_service/0032/20160823_000000/MEG/001.aud_vis_LPT_psychopy/files/PROJ38_SUBJ0032_SER001_FILESNO1.fif...\n",
      "This filename (/raw/sorted/MEG_service/0032/20160823_000000/MEG/001.aud_vis_LPT_psychopy/files/PROJ38_SUBJ0032_SER001_FILESNO1.fif) does not conform to MNE naming conventions. All raw files should end with raw.fif, raw_sss.fif, raw_tsss.fif, raw.fif.gz, raw_sss.fif.gz or raw_tsss.fif.gz\n",
      "Isotrak not found\n",
      "    Read a total of 8 projection items:\n",
      "        mag_68.fif : PCA-v1 (1 x 306)  idle\n",
      "        mag_68.fif : PCA-v2 (1 x 306)  idle\n",
      "        mag_68.fif : PCA-v3 (1 x 306)  idle\n",
      "        mag_68.fif : PCA-v4 (1 x 306)  idle\n",
      "        mag_68.fif : PCA-v5 (1 x 306)  idle\n",
      "        grad_68.fif : PCA-v1 (1 x 306)  idle\n",
      "        grad_68.fif : PCA-v2 (1 x 306)  idle\n",
      "        grad_68.fif : PCA-v3 (1 x 306)  idle\n",
      "    Range : 35000 ... 788999 =      7.000 ...   157.800 secs\n",
      "Ready.\n",
      "Reading 0 ... 753999  =      0.000 ...   150.800 secs...\n",
      "266 events found\n",
      "Events id: [1 2]\n",
      "138 matching events found\n",
      "Applying baseline correction (mode: mean)\n",
      "8 projection items activated\n",
      "Loading data for 138 events and 2001 original time points ...\n",
      "2 bad epochs dropped\n",
      "138 matching events found\n",
      "Applying baseline correction (mode: mean)\n",
      "8 projection items activated\n",
      "Loading data for 138 events and 3501 original time points ...\n",
      "2 bad epochs dropped\n"
     ]
    },
    {
     "name": "stderr",
     "output_type": "stream",
     "text": [
      "/usr/local/common/anaconda/lib/python2.7/site-packages/meeg/extract_delays_MEG.py:57: RuntimeWarning: This filename (/raw/sorted/MEG_service/0032/20160823_000000/MEG/001.aud_vis_LPT_psychopy/files/PROJ38_SUBJ0032_SER001_FILESNO1.fif) does not conform to MNE naming conventions. All raw files should end with raw.fif, raw_sss.fif, raw_tsss.fif, raw.fif.gz, raw_sss.fif.gz or raw_tsss.fif.gz\n",
      "  raw = Raw(raw_fname, preload=True)\n"
     ]
    },
    {
     "data": {
      "text/plain": [
       "(array([ 19. ,  18.8,  19. ,  18.8,  19. ,  18.8,  18.8,  18.8,  17.4,\n",
       "         17.4,  18.8,  19. ,  17.4,  18.8,  18.8,  18.8,  19. ,  18.8,\n",
       "         18.8,  18.8,  17.2,  18.8,  18.8,  18.8,  18.8,  18.6,  18.8,\n",
       "         18.8,  18.6,  17.4,  18.8,  17.4,  18.8,  17.4,  18.6,  18.6,\n",
       "         18.8,  18.8,  19.8,  17.4,  18.8,  19. ,  18.8,  19. ,  19. ,\n",
       "         18.8,  17.4,  18.8,  17.2,  18.8,  17.4,  18.6,  18.8,  18.8,\n",
       "         18.8,  18.8,  18.8,  18.8,  18.8,  18.8,  18.8,  18.8,  18.8,\n",
       "         17.4,  18.8,  18.8,  17.4,  18.8,  18.8,  18.8,  17.4,  18.8,\n",
       "         19. ,  18.8,  18.8,  18.8,  18.8,  18.8,  18.8,  17.4,  18.6,\n",
       "         18.8,  19. ,  17.4,  19. ,  17.2,  17.6,  19. ,  18.8,  18.8,\n",
       "         19. ,  18.8,  18.8,  18.8,  19. ,  19. ,  18.8,  18.8,  19. ,\n",
       "         18.6,  18.8,  18.8,  17.4,  19. ,  18.8,  19. ,  19. ,  19. ,\n",
       "         18.8,  19. ,  18.8,  19. ,  18.8,  18.8,  18.8,  18.8,  17.4,\n",
       "         18.8,  18.8,  18.8,  18.6,  19. ,  18.8,  18.8,  18.8,  18.6,\n",
       "         18.8,  19. ,  18.8,  18.8,  18.8,  18.8,  18.8,  18.8,  19. ,\n",
       "         18.8,  18.8,  19. ]),\n",
       " {'max_amp': 0.10589599609375,\n",
       "  'mean': 18.626086956521736,\n",
       "  'median': 18.800000000000001,\n",
       "  'min_amp': -0.001220703125,\n",
       "  'q10': 17.399999999999999,\n",
       "  'q90': 19.0,\n",
       "  'std': 0.52960257834463809})"
      ]
     },
     "execution_count": 7,
     "metadata": {},
     "output_type": "execute_result"
    }
   ],
   "source": [
    "extract_delays(raw_fname, trig_codes=vis_trig_code, plot_figures=plot_figures, crop_plot_time=(-0.050, 0.150))"
   ]
  },
  {
   "cell_type": "code",
   "execution_count": 14,
   "metadata": {
    "collapsed": true
   },
   "outputs": [],
   "source": [
    "extract_delays?"
   ]
  },
  {
   "cell_type": "code",
   "execution_count": 9,
   "metadata": {
    "collapsed": false
   },
   "outputs": [
    {
     "name": "stdout",
     "output_type": "stream",
     "text": [
      "Opening raw data file /raw/sorted/MEG_service/0032/20160823_000000/MEG/001.aud_vis_LPT_psychopy/files/PROJ38_SUBJ0032_SER001_FILESNO1.fif...\n",
      "This filename (/raw/sorted/MEG_service/0032/20160823_000000/MEG/001.aud_vis_LPT_psychopy/files/PROJ38_SUBJ0032_SER001_FILESNO1.fif) does not conform to MNE naming conventions. All raw files should end with raw.fif, raw_sss.fif, raw_tsss.fif, raw.fif.gz, raw_sss.fif.gz or raw_tsss.fif.gz\n",
      "Isotrak not found\n",
      "    Read a total of 8 projection items:\n",
      "        mag_68.fif : PCA-v1 (1 x 306)  idle\n",
      "        mag_68.fif : PCA-v2 (1 x 306)  idle\n",
      "        mag_68.fif : PCA-v3 (1 x 306)  idle\n",
      "        mag_68.fif : PCA-v4 (1 x 306)  idle\n",
      "        mag_68.fif : PCA-v5 (1 x 306)  idle\n",
      "        grad_68.fif : PCA-v1 (1 x 306)  idle\n",
      "        grad_68.fif : PCA-v2 (1 x 306)  idle\n",
      "        grad_68.fif : PCA-v3 (1 x 306)  idle\n",
      "    Range : 35000 ... 788999 =      7.000 ...   157.800 secs\n",
      "Ready.\n",
      "Reading 0 ... 753999  =      0.000 ...   150.800 secs...\n",
      "266 events found\n",
      "Events id: [1 2]\n",
      "128 matching events found\n",
      "Applying baseline correction (mode: mean)\n",
      "8 projection items activated\n",
      "Loading data for 128 events and 2001 original time points ...\n",
      "0 bad epochs dropped\n",
      "128 matching events found\n",
      "Applying baseline correction (mode: mean)\n",
      "8 projection items activated\n",
      "Loading data for 128 events and 3501 original time points ...\n",
      "0 bad epochs dropped\n"
     ]
    }
   ],
   "source": [
    "delays, stats = extract_delays(raw_fname, trig_codes=1, misc_chan='MISC002',plot_figures=plot_figures, crop_plot_time=(-0.050, 0.300))"
   ]
  },
  {
   "cell_type": "code",
   "execution_count": 10,
   "metadata": {
    "collapsed": false
   },
   "outputs": [
    {
     "data": {
      "text/plain": [
       "array([ 30.2,  28. ,  27.8,  27.2,  30.2,  30.2,  28.2,  28.2,  28.2,\n",
       "        28. ,  30.2,  28. ,  27.8,  28.4,  28. ,  28.2,  28.2,  28.2,\n",
       "        29.8,  30.2,  28.2,  27.8,  30.4,  28. ,  28. ,  28. ,  28.2,\n",
       "        28. ,  27.8,  28.4,  28. ,  28. ,  28. ,  28.2,  28. ,  28.2,\n",
       "        29.2,  30. ,  30.2,  28.6,  30. ,  27.8,  28.2,  30. ,  28. ,\n",
       "         8. ,  27.8,  28.2,  28.4,  30. ,  28.4,  28.2,  28. ,  28. ,\n",
       "        28. ,  28. ,  28. ,  28.2,  27.8,  28. ,  27.6,  27.8,  27.8,\n",
       "        30. ,  30.4,  27.8,  30.2,  30. ,  30. ,  27.8,  30.2,  28.4,\n",
       "        28.2,  30.6,  28.2,  29.8,  30.2,  30.2,  30. ,  28. ,  28.2,\n",
       "        30.2,  28.2,  28.4,  28.2,  28.4,  28.2,  28.4,  28. ,  30.2,\n",
       "        28.8,  28.4,  28.6,  28.4,  28.4,  28.2,  28.2,  28.4,  28. ,\n",
       "        28.2,  28.6,  28. ,  30.2,  30.4,  28.2,  28.4,  28.2,   2.4,\n",
       "        27.4,  28. ,  30.4,  28.4,  28.2,  28.2,  28.4,  30.4,  28. ,\n",
       "        28. ,  27.8,  28.4,  28.4,  30.2,  28.4,  28.4,  27.6,  29.8,\n",
       "        28.4,  28. ])"
      ]
     },
     "execution_count": 10,
     "metadata": {},
     "output_type": "execute_result"
    }
   ],
   "source": [
    "delays"
   ]
  },
  {
   "cell_type": "code",
   "execution_count": 11,
   "metadata": {
    "collapsed": false
   },
   "outputs": [
    {
     "data": {
      "text/plain": [
       "['std', 'median', 'q90', 'q10', 'max_amp', 'min_amp', 'mean']"
      ]
     },
     "execution_count": 11,
     "metadata": {},
     "output_type": "execute_result"
    }
   ],
   "source": [
    "stats.keys()"
   ]
  },
  {
   "cell_type": "code",
   "execution_count": 13,
   "metadata": {
    "collapsed": false
   },
   "outputs": [
    {
     "data": {
      "text/plain": [
       "28.199999999999999"
      ]
     },
     "execution_count": 13,
     "metadata": {},
     "output_type": "execute_result"
    }
   ],
   "source": [
    "stats['median']"
   ]
  },
  {
   "cell_type": "code",
   "execution_count": null,
   "metadata": {
    "collapsed": true
   },
   "outputs": [],
   "source": []
  }
 ],
 "metadata": {
  "kernelspec": {
   "display_name": "Python 2",
   "language": "python",
   "name": "python2"
  },
  "language_info": {
   "codemirror_mode": {
    "name": "ipython",
    "version": 2
   },
   "file_extension": ".py",
   "mimetype": "text/x-python",
   "name": "python",
   "nbconvert_exporter": "python",
   "pygments_lexer": "ipython2",
   "version": "2.7.12"
  }
 },
 "nbformat": 4,
 "nbformat_minor": 0
}
