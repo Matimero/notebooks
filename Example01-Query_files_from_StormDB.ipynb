{
 "cells": [
  {
   "cell_type": "code",
   "execution_count": 3,
   "metadata": {
    "collapsed": true
   },
   "outputs": [],
   "source": [
    "proj_code = 'MINDLAB2013_01-MEG-AttentionEmotionVisualTracking'\n",
    "from stormdb.access import Query\n",
    "qy=Query(proj_code)"
   ]
  },
  {
   "cell_type": "code",
   "execution_count": 4,
   "metadata": {
    "collapsed": false
   },
   "outputs": [],
   "source": [
    "from interactive_widgets import InteractiveQuery"
   ]
  },
  {
   "cell_type": "code",
   "execution_count": 5,
   "metadata": {
    "collapsed": false
   },
   "outputs": [],
   "source": [
    "iact = InteractiveQuery(qy)"
   ]
  },
  {
   "cell_type": "code",
   "execution_count": 6,
   "metadata": {
    "collapsed": false
   },
   "outputs": [],
   "source": [
    "iact.display()"
   ]
  },
  {
   "cell_type": "code",
   "execution_count": 7,
   "metadata": {
    "collapsed": false
   },
   "outputs": [
    {
     "data": {
      "text/plain": [
       "{'files': ['/projects/MINDLAB2013_01-MEG-AttentionEmotionVisualTracking/raw/0016/20131016_142336/MR/005.t1_mprage_3D_sag/files/PROJ0103_SUBJ0016_SER005_ACQ00001_IMG00001.dcm',\n",
       "  '/projects/MINDLAB2013_01-MEG-AttentionEmotionVisualTracking/raw/0016/20131016_142336/MR/005.t1_mprage_3D_sag/files/PROJ0103_SUBJ0016_SER005_ACQ00001_IMG00002.dcm',\n",
       "  '/projects/MINDLAB2013_01-MEG-AttentionEmotionVisualTracking/raw/0016/20131016_142336/MR/005.t1_mprage_3D_sag/files/PROJ0103_SUBJ0016_SER005_ACQ00001_IMG00003.dcm',\n",
       "  '/projects/MINDLAB2013_01-MEG-AttentionEmotionVisualTracking/raw/0016/20131016_142336/MR/005.t1_mprage_3D_sag/files/PROJ0103_SUBJ0016_SER005_ACQ00001_IMG00004.dcm',\n",
       "  '/projects/MINDLAB2013_01-MEG-AttentionEmotionVisualTracking/raw/0016/20131016_142336/MR/005.t1_mprage_3D_sag/files/PROJ0103_SUBJ0016_SER005_ACQ00001_IMG00005.dcm',\n",
       "  '/projects/MINDLAB2013_01-MEG-AttentionEmotionVisualTracking/raw/0016/20131016_142336/MR/005.t1_mprage_3D_sag/files/PROJ0103_SUBJ0016_SER005_ACQ00001_IMG00006.dcm',\n",
       "  '/projects/MINDLAB2013_01-MEG-AttentionEmotionVisualTracking/raw/0016/20131016_142336/MR/005.t1_mprage_3D_sag/files/PROJ0103_SUBJ0016_SER005_ACQ00001_IMG00007.dcm',\n",
       "  '/projects/MINDLAB2013_01-MEG-AttentionEmotionVisualTracking/raw/0016/20131016_142336/MR/005.t1_mprage_3D_sag/files/PROJ0103_SUBJ0016_SER005_ACQ00001_IMG00008.dcm',\n",
       "  '/projects/MINDLAB2013_01-MEG-AttentionEmotionVisualTracking/raw/0016/20131016_142336/MR/005.t1_mprage_3D_sag/files/PROJ0103_SUBJ0016_SER005_ACQ00001_IMG00009.dcm',\n",
       "  '/projects/MINDLAB2013_01-MEG-AttentionEmotionVisualTracking/raw/0016/20131016_142336/MR/005.t1_mprage_3D_sag/files/PROJ0103_SUBJ0016_SER005_ACQ00001_IMG00010.dcm',\n",
       "  '/projects/MINDLAB2013_01-MEG-AttentionEmotionVisualTracking/raw/0016/20131016_142336/MR/005.t1_mprage_3D_sag/files/PROJ0103_SUBJ0016_SER005_ACQ00001_IMG00011.dcm',\n",
       "  '/projects/MINDLAB2013_01-MEG-AttentionEmotionVisualTracking/raw/0016/20131016_142336/MR/005.t1_mprage_3D_sag/files/PROJ0103_SUBJ0016_SER005_ACQ00001_IMG00012.dcm',\n",
       "  '/projects/MINDLAB2013_01-MEG-AttentionEmotionVisualTracking/raw/0016/20131016_142336/MR/005.t1_mprage_3D_sag/files/PROJ0103_SUBJ0016_SER005_ACQ00001_IMG00013.dcm',\n",
       "  '/projects/MINDLAB2013_01-MEG-AttentionEmotionVisualTracking/raw/0016/20131016_142336/MR/005.t1_mprage_3D_sag/files/PROJ0103_SUBJ0016_SER005_ACQ00001_IMG00014.dcm',\n",
       "  '/projects/MINDLAB2013_01-MEG-AttentionEmotionVisualTracking/raw/0016/20131016_142336/MR/005.t1_mprage_3D_sag/files/PROJ0103_SUBJ0016_SER005_ACQ00001_IMG00015.dcm',\n",
       "  '/projects/MINDLAB2013_01-MEG-AttentionEmotionVisualTracking/raw/0016/20131016_142336/MR/005.t1_mprage_3D_sag/files/PROJ0103_SUBJ0016_SER005_ACQ00001_IMG00016.dcm',\n",
       "  '/projects/MINDLAB2013_01-MEG-AttentionEmotionVisualTracking/raw/0016/20131016_142336/MR/005.t1_mprage_3D_sag/files/PROJ0103_SUBJ0016_SER005_ACQ00001_IMG00017.dcm',\n",
       "  '/projects/MINDLAB2013_01-MEG-AttentionEmotionVisualTracking/raw/0016/20131016_142336/MR/005.t1_mprage_3D_sag/files/PROJ0103_SUBJ0016_SER005_ACQ00001_IMG00018.dcm',\n",
       "  '/projects/MINDLAB2013_01-MEG-AttentionEmotionVisualTracking/raw/0016/20131016_142336/MR/005.t1_mprage_3D_sag/files/PROJ0103_SUBJ0016_SER005_ACQ00001_IMG00019.dcm',\n",
       "  '/projects/MINDLAB2013_01-MEG-AttentionEmotionVisualTracking/raw/0016/20131016_142336/MR/005.t1_mprage_3D_sag/files/PROJ0103_SUBJ0016_SER005_ACQ00001_IMG00020.dcm',\n",
       "  '/projects/MINDLAB2013_01-MEG-AttentionEmotionVisualTracking/raw/0016/20131016_142336/MR/005.t1_mprage_3D_sag/files/PROJ0103_SUBJ0016_SER005_ACQ00001_IMG00021.dcm',\n",
       "  '/projects/MINDLAB2013_01-MEG-AttentionEmotionVisualTracking/raw/0016/20131016_142336/MR/005.t1_mprage_3D_sag/files/PROJ0103_SUBJ0016_SER005_ACQ00001_IMG00022.dcm',\n",
       "  '/projects/MINDLAB2013_01-MEG-AttentionEmotionVisualTracking/raw/0016/20131016_142336/MR/005.t1_mprage_3D_sag/files/PROJ0103_SUBJ0016_SER005_ACQ00001_IMG00023.dcm',\n",
       "  '/projects/MINDLAB2013_01-MEG-AttentionEmotionVisualTracking/raw/0016/20131016_142336/MR/005.t1_mprage_3D_sag/files/PROJ0103_SUBJ0016_SER005_ACQ00001_IMG00024.dcm',\n",
       "  '/projects/MINDLAB2013_01-MEG-AttentionEmotionVisualTracking/raw/0016/20131016_142336/MR/005.t1_mprage_3D_sag/files/PROJ0103_SUBJ0016_SER005_ACQ00001_IMG00025.dcm',\n",
       "  '/projects/MINDLAB2013_01-MEG-AttentionEmotionVisualTracking/raw/0016/20131016_142336/MR/005.t1_mprage_3D_sag/files/PROJ0103_SUBJ0016_SER005_ACQ00001_IMG00026.dcm',\n",
       "  '/projects/MINDLAB2013_01-MEG-AttentionEmotionVisualTracking/raw/0016/20131016_142336/MR/005.t1_mprage_3D_sag/files/PROJ0103_SUBJ0016_SER005_ACQ00001_IMG00027.dcm',\n",
       "  '/projects/MINDLAB2013_01-MEG-AttentionEmotionVisualTracking/raw/0016/20131016_142336/MR/005.t1_mprage_3D_sag/files/PROJ0103_SUBJ0016_SER005_ACQ00001_IMG00028.dcm',\n",
       "  '/projects/MINDLAB2013_01-MEG-AttentionEmotionVisualTracking/raw/0016/20131016_142336/MR/005.t1_mprage_3D_sag/files/PROJ0103_SUBJ0016_SER005_ACQ00001_IMG00029.dcm',\n",
       "  '/projects/MINDLAB2013_01-MEG-AttentionEmotionVisualTracking/raw/0016/20131016_142336/MR/005.t1_mprage_3D_sag/files/PROJ0103_SUBJ0016_SER005_ACQ00001_IMG00030.dcm',\n",
       "  '/projects/MINDLAB2013_01-MEG-AttentionEmotionVisualTracking/raw/0016/20131016_142336/MR/005.t1_mprage_3D_sag/files/PROJ0103_SUBJ0016_SER005_ACQ00001_IMG00031.dcm',\n",
       "  '/projects/MINDLAB2013_01-MEG-AttentionEmotionVisualTracking/raw/0016/20131016_142336/MR/005.t1_mprage_3D_sag/files/PROJ0103_SUBJ0016_SER005_ACQ00001_IMG00032.dcm',\n",
       "  '/projects/MINDLAB2013_01-MEG-AttentionEmotionVisualTracking/raw/0016/20131016_142336/MR/005.t1_mprage_3D_sag/files/PROJ0103_SUBJ0016_SER005_ACQ00001_IMG00033.dcm',\n",
       "  '/projects/MINDLAB2013_01-MEG-AttentionEmotionVisualTracking/raw/0016/20131016_142336/MR/005.t1_mprage_3D_sag/files/PROJ0103_SUBJ0016_SER005_ACQ00001_IMG00034.dcm',\n",
       "  '/projects/MINDLAB2013_01-MEG-AttentionEmotionVisualTracking/raw/0016/20131016_142336/MR/005.t1_mprage_3D_sag/files/PROJ0103_SUBJ0016_SER005_ACQ00001_IMG00035.dcm',\n",
       "  '/projects/MINDLAB2013_01-MEG-AttentionEmotionVisualTracking/raw/0016/20131016_142336/MR/005.t1_mprage_3D_sag/files/PROJ0103_SUBJ0016_SER005_ACQ00001_IMG00036.dcm',\n",
       "  '/projects/MINDLAB2013_01-MEG-AttentionEmotionVisualTracking/raw/0016/20131016_142336/MR/005.t1_mprage_3D_sag/files/PROJ0103_SUBJ0016_SER005_ACQ00001_IMG00037.dcm',\n",
       "  '/projects/MINDLAB2013_01-MEG-AttentionEmotionVisualTracking/raw/0016/20131016_142336/MR/005.t1_mprage_3D_sag/files/PROJ0103_SUBJ0016_SER005_ACQ00001_IMG00038.dcm',\n",
       "  '/projects/MINDLAB2013_01-MEG-AttentionEmotionVisualTracking/raw/0016/20131016_142336/MR/005.t1_mprage_3D_sag/files/PROJ0103_SUBJ0016_SER005_ACQ00001_IMG00039.dcm',\n",
       "  '/projects/MINDLAB2013_01-MEG-AttentionEmotionVisualTracking/raw/0016/20131016_142336/MR/005.t1_mprage_3D_sag/files/PROJ0103_SUBJ0016_SER005_ACQ00001_IMG00040.dcm',\n",
       "  '/projects/MINDLAB2013_01-MEG-AttentionEmotionVisualTracking/raw/0016/20131016_142336/MR/005.t1_mprage_3D_sag/files/PROJ0103_SUBJ0016_SER005_ACQ00001_IMG00041.dcm',\n",
       "  '/projects/MINDLAB2013_01-MEG-AttentionEmotionVisualTracking/raw/0016/20131016_142336/MR/005.t1_mprage_3D_sag/files/PROJ0103_SUBJ0016_SER005_ACQ00001_IMG00042.dcm',\n",
       "  '/projects/MINDLAB2013_01-MEG-AttentionEmotionVisualTracking/raw/0016/20131016_142336/MR/005.t1_mprage_3D_sag/files/PROJ0103_SUBJ0016_SER005_ACQ00001_IMG00043.dcm',\n",
       "  '/projects/MINDLAB2013_01-MEG-AttentionEmotionVisualTracking/raw/0016/20131016_142336/MR/005.t1_mprage_3D_sag/files/PROJ0103_SUBJ0016_SER005_ACQ00001_IMG00044.dcm',\n",
       "  '/projects/MINDLAB2013_01-MEG-AttentionEmotionVisualTracking/raw/0016/20131016_142336/MR/005.t1_mprage_3D_sag/files/PROJ0103_SUBJ0016_SER005_ACQ00001_IMG00045.dcm',\n",
       "  '/projects/MINDLAB2013_01-MEG-AttentionEmotionVisualTracking/raw/0016/20131016_142336/MR/005.t1_mprage_3D_sag/files/PROJ0103_SUBJ0016_SER005_ACQ00001_IMG00046.dcm',\n",
       "  '/projects/MINDLAB2013_01-MEG-AttentionEmotionVisualTracking/raw/0016/20131016_142336/MR/005.t1_mprage_3D_sag/files/PROJ0103_SUBJ0016_SER005_ACQ00001_IMG00047.dcm',\n",
       "  '/projects/MINDLAB2013_01-MEG-AttentionEmotionVisualTracking/raw/0016/20131016_142336/MR/005.t1_mprage_3D_sag/files/PROJ0103_SUBJ0016_SER005_ACQ00001_IMG00048.dcm',\n",
       "  '/projects/MINDLAB2013_01-MEG-AttentionEmotionVisualTracking/raw/0016/20131016_142336/MR/005.t1_mprage_3D_sag/files/PROJ0103_SUBJ0016_SER005_ACQ00001_IMG00049.dcm',\n",
       "  '/projects/MINDLAB2013_01-MEG-AttentionEmotionVisualTracking/raw/0016/20131016_142336/MR/005.t1_mprage_3D_sag/files/PROJ0103_SUBJ0016_SER005_ACQ00001_IMG00050.dcm',\n",
       "  '/projects/MINDLAB2013_01-MEG-AttentionEmotionVisualTracking/raw/0016/20131016_142336/MR/005.t1_mprage_3D_sag/files/PROJ0103_SUBJ0016_SER005_ACQ00001_IMG00051.dcm',\n",
       "  '/projects/MINDLAB2013_01-MEG-AttentionEmotionVisualTracking/raw/0016/20131016_142336/MR/005.t1_mprage_3D_sag/files/PROJ0103_SUBJ0016_SER005_ACQ00001_IMG00052.dcm',\n",
       "  '/projects/MINDLAB2013_01-MEG-AttentionEmotionVisualTracking/raw/0016/20131016_142336/MR/005.t1_mprage_3D_sag/files/PROJ0103_SUBJ0016_SER005_ACQ00001_IMG00053.dcm',\n",
       "  '/projects/MINDLAB2013_01-MEG-AttentionEmotionVisualTracking/raw/0016/20131016_142336/MR/005.t1_mprage_3D_sag/files/PROJ0103_SUBJ0016_SER005_ACQ00001_IMG00054.dcm',\n",
       "  '/projects/MINDLAB2013_01-MEG-AttentionEmotionVisualTracking/raw/0016/20131016_142336/MR/005.t1_mprage_3D_sag/files/PROJ0103_SUBJ0016_SER005_ACQ00001_IMG00055.dcm',\n",
       "  '/projects/MINDLAB2013_01-MEG-AttentionEmotionVisualTracking/raw/0016/20131016_142336/MR/005.t1_mprage_3D_sag/files/PROJ0103_SUBJ0016_SER005_ACQ00001_IMG00056.dcm',\n",
       "  '/projects/MINDLAB2013_01-MEG-AttentionEmotionVisualTracking/raw/0016/20131016_142336/MR/005.t1_mprage_3D_sag/files/PROJ0103_SUBJ0016_SER005_ACQ00001_IMG00057.dcm',\n",
       "  '/projects/MINDLAB2013_01-MEG-AttentionEmotionVisualTracking/raw/0016/20131016_142336/MR/005.t1_mprage_3D_sag/files/PROJ0103_SUBJ0016_SER005_ACQ00001_IMG00058.dcm',\n",
       "  '/projects/MINDLAB2013_01-MEG-AttentionEmotionVisualTracking/raw/0016/20131016_142336/MR/005.t1_mprage_3D_sag/files/PROJ0103_SUBJ0016_SER005_ACQ00001_IMG00059.dcm',\n",
       "  '/projects/MINDLAB2013_01-MEG-AttentionEmotionVisualTracking/raw/0016/20131016_142336/MR/005.t1_mprage_3D_sag/files/PROJ0103_SUBJ0016_SER005_ACQ00001_IMG00060.dcm',\n",
       "  '/projects/MINDLAB2013_01-MEG-AttentionEmotionVisualTracking/raw/0016/20131016_142336/MR/005.t1_mprage_3D_sag/files/PROJ0103_SUBJ0016_SER005_ACQ00001_IMG00061.dcm',\n",
       "  '/projects/MINDLAB2013_01-MEG-AttentionEmotionVisualTracking/raw/0016/20131016_142336/MR/005.t1_mprage_3D_sag/files/PROJ0103_SUBJ0016_SER005_ACQ00001_IMG00062.dcm',\n",
       "  '/projects/MINDLAB2013_01-MEG-AttentionEmotionVisualTracking/raw/0016/20131016_142336/MR/005.t1_mprage_3D_sag/files/PROJ0103_SUBJ0016_SER005_ACQ00001_IMG00063.dcm',\n",
       "  '/projects/MINDLAB2013_01-MEG-AttentionEmotionVisualTracking/raw/0016/20131016_142336/MR/005.t1_mprage_3D_sag/files/PROJ0103_SUBJ0016_SER005_ACQ00001_IMG00064.dcm',\n",
       "  '/projects/MINDLAB2013_01-MEG-AttentionEmotionVisualTracking/raw/0016/20131016_142336/MR/005.t1_mprage_3D_sag/files/PROJ0103_SUBJ0016_SER005_ACQ00001_IMG00065.dcm',\n",
       "  '/projects/MINDLAB2013_01-MEG-AttentionEmotionVisualTracking/raw/0016/20131016_142336/MR/005.t1_mprage_3D_sag/files/PROJ0103_SUBJ0016_SER005_ACQ00001_IMG00066.dcm',\n",
       "  '/projects/MINDLAB2013_01-MEG-AttentionEmotionVisualTracking/raw/0016/20131016_142336/MR/005.t1_mprage_3D_sag/files/PROJ0103_SUBJ0016_SER005_ACQ00001_IMG00067.dcm',\n",
       "  '/projects/MINDLAB2013_01-MEG-AttentionEmotionVisualTracking/raw/0016/20131016_142336/MR/005.t1_mprage_3D_sag/files/PROJ0103_SUBJ0016_SER005_ACQ00001_IMG00068.dcm',\n",
       "  '/projects/MINDLAB2013_01-MEG-AttentionEmotionVisualTracking/raw/0016/20131016_142336/MR/005.t1_mprage_3D_sag/files/PROJ0103_SUBJ0016_SER005_ACQ00001_IMG00069.dcm',\n",
       "  '/projects/MINDLAB2013_01-MEG-AttentionEmotionVisualTracking/raw/0016/20131016_142336/MR/005.t1_mprage_3D_sag/files/PROJ0103_SUBJ0016_SER005_ACQ00001_IMG00070.dcm',\n",
       "  '/projects/MINDLAB2013_01-MEG-AttentionEmotionVisualTracking/raw/0016/20131016_142336/MR/005.t1_mprage_3D_sag/files/PROJ0103_SUBJ0016_SER005_ACQ00001_IMG00071.dcm',\n",
       "  '/projects/MINDLAB2013_01-MEG-AttentionEmotionVisualTracking/raw/0016/20131016_142336/MR/005.t1_mprage_3D_sag/files/PROJ0103_SUBJ0016_SER005_ACQ00001_IMG00072.dcm',\n",
       "  '/projects/MINDLAB2013_01-MEG-AttentionEmotionVisualTracking/raw/0016/20131016_142336/MR/005.t1_mprage_3D_sag/files/PROJ0103_SUBJ0016_SER005_ACQ00001_IMG00073.dcm',\n",
       "  '/projects/MINDLAB2013_01-MEG-AttentionEmotionVisualTracking/raw/0016/20131016_142336/MR/005.t1_mprage_3D_sag/files/PROJ0103_SUBJ0016_SER005_ACQ00001_IMG00074.dcm',\n",
       "  '/projects/MINDLAB2013_01-MEG-AttentionEmotionVisualTracking/raw/0016/20131016_142336/MR/005.t1_mprage_3D_sag/files/PROJ0103_SUBJ0016_SER005_ACQ00001_IMG00075.dcm',\n",
       "  '/projects/MINDLAB2013_01-MEG-AttentionEmotionVisualTracking/raw/0016/20131016_142336/MR/005.t1_mprage_3D_sag/files/PROJ0103_SUBJ0016_SER005_ACQ00001_IMG00076.dcm',\n",
       "  '/projects/MINDLAB2013_01-MEG-AttentionEmotionVisualTracking/raw/0016/20131016_142336/MR/005.t1_mprage_3D_sag/files/PROJ0103_SUBJ0016_SER005_ACQ00001_IMG00077.dcm',\n",
       "  '/projects/MINDLAB2013_01-MEG-AttentionEmotionVisualTracking/raw/0016/20131016_142336/MR/005.t1_mprage_3D_sag/files/PROJ0103_SUBJ0016_SER005_ACQ00001_IMG00078.dcm',\n",
       "  '/projects/MINDLAB2013_01-MEG-AttentionEmotionVisualTracking/raw/0016/20131016_142336/MR/005.t1_mprage_3D_sag/files/PROJ0103_SUBJ0016_SER005_ACQ00001_IMG00079.dcm',\n",
       "  '/projects/MINDLAB2013_01-MEG-AttentionEmotionVisualTracking/raw/0016/20131016_142336/MR/005.t1_mprage_3D_sag/files/PROJ0103_SUBJ0016_SER005_ACQ00001_IMG00080.dcm',\n",
       "  '/projects/MINDLAB2013_01-MEG-AttentionEmotionVisualTracking/raw/0016/20131016_142336/MR/005.t1_mprage_3D_sag/files/PROJ0103_SUBJ0016_SER005_ACQ00001_IMG00081.dcm',\n",
       "  '/projects/MINDLAB2013_01-MEG-AttentionEmotionVisualTracking/raw/0016/20131016_142336/MR/005.t1_mprage_3D_sag/files/PROJ0103_SUBJ0016_SER005_ACQ00001_IMG00082.dcm',\n",
       "  '/projects/MINDLAB2013_01-MEG-AttentionEmotionVisualTracking/raw/0016/20131016_142336/MR/005.t1_mprage_3D_sag/files/PROJ0103_SUBJ0016_SER005_ACQ00001_IMG00083.dcm',\n",
       "  '/projects/MINDLAB2013_01-MEG-AttentionEmotionVisualTracking/raw/0016/20131016_142336/MR/005.t1_mprage_3D_sag/files/PROJ0103_SUBJ0016_SER005_ACQ00001_IMG00084.dcm',\n",
       "  '/projects/MINDLAB2013_01-MEG-AttentionEmotionVisualTracking/raw/0016/20131016_142336/MR/005.t1_mprage_3D_sag/files/PROJ0103_SUBJ0016_SER005_ACQ00001_IMG00085.dcm',\n",
       "  '/projects/MINDLAB2013_01-MEG-AttentionEmotionVisualTracking/raw/0016/20131016_142336/MR/005.t1_mprage_3D_sag/files/PROJ0103_SUBJ0016_SER005_ACQ00001_IMG00086.dcm',\n",
       "  '/projects/MINDLAB2013_01-MEG-AttentionEmotionVisualTracking/raw/0016/20131016_142336/MR/005.t1_mprage_3D_sag/files/PROJ0103_SUBJ0016_SER005_ACQ00001_IMG00087.dcm',\n",
       "  '/projects/MINDLAB2013_01-MEG-AttentionEmotionVisualTracking/raw/0016/20131016_142336/MR/005.t1_mprage_3D_sag/files/PROJ0103_SUBJ0016_SER005_ACQ00001_IMG00088.dcm',\n",
       "  '/projects/MINDLAB2013_01-MEG-AttentionEmotionVisualTracking/raw/0016/20131016_142336/MR/005.t1_mprage_3D_sag/files/PROJ0103_SUBJ0016_SER005_ACQ00001_IMG00089.dcm',\n",
       "  '/projects/MINDLAB2013_01-MEG-AttentionEmotionVisualTracking/raw/0016/20131016_142336/MR/005.t1_mprage_3D_sag/files/PROJ0103_SUBJ0016_SER005_ACQ00001_IMG00090.dcm',\n",
       "  '/projects/MINDLAB2013_01-MEG-AttentionEmotionVisualTracking/raw/0016/20131016_142336/MR/005.t1_mprage_3D_sag/files/PROJ0103_SUBJ0016_SER005_ACQ00001_IMG00091.dcm',\n",
       "  '/projects/MINDLAB2013_01-MEG-AttentionEmotionVisualTracking/raw/0016/20131016_142336/MR/005.t1_mprage_3D_sag/files/PROJ0103_SUBJ0016_SER005_ACQ00001_IMG00092.dcm',\n",
       "  '/projects/MINDLAB2013_01-MEG-AttentionEmotionVisualTracking/raw/0016/20131016_142336/MR/005.t1_mprage_3D_sag/files/PROJ0103_SUBJ0016_SER005_ACQ00001_IMG00093.dcm',\n",
       "  '/projects/MINDLAB2013_01-MEG-AttentionEmotionVisualTracking/raw/0016/20131016_142336/MR/005.t1_mprage_3D_sag/files/PROJ0103_SUBJ0016_SER005_ACQ00001_IMG00094.dcm',\n",
       "  '/projects/MINDLAB2013_01-MEG-AttentionEmotionVisualTracking/raw/0016/20131016_142336/MR/005.t1_mprage_3D_sag/files/PROJ0103_SUBJ0016_SER005_ACQ00001_IMG00095.dcm',\n",
       "  '/projects/MINDLAB2013_01-MEG-AttentionEmotionVisualTracking/raw/0016/20131016_142336/MR/005.t1_mprage_3D_sag/files/PROJ0103_SUBJ0016_SER005_ACQ00001_IMG00096.dcm',\n",
       "  '/projects/MINDLAB2013_01-MEG-AttentionEmotionVisualTracking/raw/0016/20131016_142336/MR/005.t1_mprage_3D_sag/files/PROJ0103_SUBJ0016_SER005_ACQ00001_IMG00097.dcm',\n",
       "  '/projects/MINDLAB2013_01-MEG-AttentionEmotionVisualTracking/raw/0016/20131016_142336/MR/005.t1_mprage_3D_sag/files/PROJ0103_SUBJ0016_SER005_ACQ00001_IMG00098.dcm',\n",
       "  '/projects/MINDLAB2013_01-MEG-AttentionEmotionVisualTracking/raw/0016/20131016_142336/MR/005.t1_mprage_3D_sag/files/PROJ0103_SUBJ0016_SER005_ACQ00001_IMG00099.dcm',\n",
       "  '/projects/MINDLAB2013_01-MEG-AttentionEmotionVisualTracking/raw/0016/20131016_142336/MR/005.t1_mprage_3D_sag/files/PROJ0103_SUBJ0016_SER005_ACQ00001_IMG00100.dcm',\n",
       "  '/projects/MINDLAB2013_01-MEG-AttentionEmotionVisualTracking/raw/0016/20131016_142336/MR/005.t1_mprage_3D_sag/files/PROJ0103_SUBJ0016_SER005_ACQ00001_IMG00101.dcm',\n",
       "  '/projects/MINDLAB2013_01-MEG-AttentionEmotionVisualTracking/raw/0016/20131016_142336/MR/005.t1_mprage_3D_sag/files/PROJ0103_SUBJ0016_SER005_ACQ00001_IMG00102.dcm',\n",
       "  '/projects/MINDLAB2013_01-MEG-AttentionEmotionVisualTracking/raw/0016/20131016_142336/MR/005.t1_mprage_3D_sag/files/PROJ0103_SUBJ0016_SER005_ACQ00001_IMG00103.dcm',\n",
       "  '/projects/MINDLAB2013_01-MEG-AttentionEmotionVisualTracking/raw/0016/20131016_142336/MR/005.t1_mprage_3D_sag/files/PROJ0103_SUBJ0016_SER005_ACQ00001_IMG00104.dcm',\n",
       "  '/projects/MINDLAB2013_01-MEG-AttentionEmotionVisualTracking/raw/0016/20131016_142336/MR/005.t1_mprage_3D_sag/files/PROJ0103_SUBJ0016_SER005_ACQ00001_IMG00105.dcm',\n",
       "  '/projects/MINDLAB2013_01-MEG-AttentionEmotionVisualTracking/raw/0016/20131016_142336/MR/005.t1_mprage_3D_sag/files/PROJ0103_SUBJ0016_SER005_ACQ00001_IMG00106.dcm',\n",
       "  '/projects/MINDLAB2013_01-MEG-AttentionEmotionVisualTracking/raw/0016/20131016_142336/MR/005.t1_mprage_3D_sag/files/PROJ0103_SUBJ0016_SER005_ACQ00001_IMG00107.dcm',\n",
       "  '/projects/MINDLAB2013_01-MEG-AttentionEmotionVisualTracking/raw/0016/20131016_142336/MR/005.t1_mprage_3D_sag/files/PROJ0103_SUBJ0016_SER005_ACQ00001_IMG00108.dcm',\n",
       "  '/projects/MINDLAB2013_01-MEG-AttentionEmotionVisualTracking/raw/0016/20131016_142336/MR/005.t1_mprage_3D_sag/files/PROJ0103_SUBJ0016_SER005_ACQ00001_IMG00109.dcm',\n",
       "  '/projects/MINDLAB2013_01-MEG-AttentionEmotionVisualTracking/raw/0016/20131016_142336/MR/005.t1_mprage_3D_sag/files/PROJ0103_SUBJ0016_SER005_ACQ00001_IMG00110.dcm',\n",
       "  '/projects/MINDLAB2013_01-MEG-AttentionEmotionVisualTracking/raw/0016/20131016_142336/MR/005.t1_mprage_3D_sag/files/PROJ0103_SUBJ0016_SER005_ACQ00001_IMG00111.dcm',\n",
       "  '/projects/MINDLAB2013_01-MEG-AttentionEmotionVisualTracking/raw/0016/20131016_142336/MR/005.t1_mprage_3D_sag/files/PROJ0103_SUBJ0016_SER005_ACQ00001_IMG00112.dcm',\n",
       "  '/projects/MINDLAB2013_01-MEG-AttentionEmotionVisualTracking/raw/0016/20131016_142336/MR/005.t1_mprage_3D_sag/files/PROJ0103_SUBJ0016_SER005_ACQ00001_IMG00113.dcm',\n",
       "  '/projects/MINDLAB2013_01-MEG-AttentionEmotionVisualTracking/raw/0016/20131016_142336/MR/005.t1_mprage_3D_sag/files/PROJ0103_SUBJ0016_SER005_ACQ00001_IMG00114.dcm',\n",
       "  '/projects/MINDLAB2013_01-MEG-AttentionEmotionVisualTracking/raw/0016/20131016_142336/MR/005.t1_mprage_3D_sag/files/PROJ0103_SUBJ0016_SER005_ACQ00001_IMG00115.dcm',\n",
       "  '/projects/MINDLAB2013_01-MEG-AttentionEmotionVisualTracking/raw/0016/20131016_142336/MR/005.t1_mprage_3D_sag/files/PROJ0103_SUBJ0016_SER005_ACQ00001_IMG00116.dcm',\n",
       "  '/projects/MINDLAB2013_01-MEG-AttentionEmotionVisualTracking/raw/0016/20131016_142336/MR/005.t1_mprage_3D_sag/files/PROJ0103_SUBJ0016_SER005_ACQ00001_IMG00117.dcm',\n",
       "  '/projects/MINDLAB2013_01-MEG-AttentionEmotionVisualTracking/raw/0016/20131016_142336/MR/005.t1_mprage_3D_sag/files/PROJ0103_SUBJ0016_SER005_ACQ00001_IMG00118.dcm',\n",
       "  '/projects/MINDLAB2013_01-MEG-AttentionEmotionVisualTracking/raw/0016/20131016_142336/MR/005.t1_mprage_3D_sag/files/PROJ0103_SUBJ0016_SER005_ACQ00001_IMG00119.dcm',\n",
       "  '/projects/MINDLAB2013_01-MEG-AttentionEmotionVisualTracking/raw/0016/20131016_142336/MR/005.t1_mprage_3D_sag/files/PROJ0103_SUBJ0016_SER005_ACQ00001_IMG00120.dcm',\n",
       "  '/projects/MINDLAB2013_01-MEG-AttentionEmotionVisualTracking/raw/0016/20131016_142336/MR/005.t1_mprage_3D_sag/files/PROJ0103_SUBJ0016_SER005_ACQ00001_IMG00121.dcm',\n",
       "  '/projects/MINDLAB2013_01-MEG-AttentionEmotionVisualTracking/raw/0016/20131016_142336/MR/005.t1_mprage_3D_sag/files/PROJ0103_SUBJ0016_SER005_ACQ00001_IMG00122.dcm',\n",
       "  '/projects/MINDLAB2013_01-MEG-AttentionEmotionVisualTracking/raw/0016/20131016_142336/MR/005.t1_mprage_3D_sag/files/PROJ0103_SUBJ0016_SER005_ACQ00001_IMG00123.dcm',\n",
       "  '/projects/MINDLAB2013_01-MEG-AttentionEmotionVisualTracking/raw/0016/20131016_142336/MR/005.t1_mprage_3D_sag/files/PROJ0103_SUBJ0016_SER005_ACQ00001_IMG00124.dcm',\n",
       "  '/projects/MINDLAB2013_01-MEG-AttentionEmotionVisualTracking/raw/0016/20131016_142336/MR/005.t1_mprage_3D_sag/files/PROJ0103_SUBJ0016_SER005_ACQ00001_IMG00125.dcm',\n",
       "  '/projects/MINDLAB2013_01-MEG-AttentionEmotionVisualTracking/raw/0016/20131016_142336/MR/005.t1_mprage_3D_sag/files/PROJ0103_SUBJ0016_SER005_ACQ00001_IMG00126.dcm',\n",
       "  '/projects/MINDLAB2013_01-MEG-AttentionEmotionVisualTracking/raw/0016/20131016_142336/MR/005.t1_mprage_3D_sag/files/PROJ0103_SUBJ0016_SER005_ACQ00001_IMG00127.dcm',\n",
       "  '/projects/MINDLAB2013_01-MEG-AttentionEmotionVisualTracking/raw/0016/20131016_142336/MR/005.t1_mprage_3D_sag/files/PROJ0103_SUBJ0016_SER005_ACQ00001_IMG00128.dcm',\n",
       "  '/projects/MINDLAB2013_01-MEG-AttentionEmotionVisualTracking/raw/0016/20131016_142336/MR/005.t1_mprage_3D_sag/files/PROJ0103_SUBJ0016_SER005_ACQ00001_IMG00129.dcm',\n",
       "  '/projects/MINDLAB2013_01-MEG-AttentionEmotionVisualTracking/raw/0016/20131016_142336/MR/005.t1_mprage_3D_sag/files/PROJ0103_SUBJ0016_SER005_ACQ00001_IMG00130.dcm',\n",
       "  '/projects/MINDLAB2013_01-MEG-AttentionEmotionVisualTracking/raw/0016/20131016_142336/MR/005.t1_mprage_3D_sag/files/PROJ0103_SUBJ0016_SER005_ACQ00001_IMG00131.dcm',\n",
       "  '/projects/MINDLAB2013_01-MEG-AttentionEmotionVisualTracking/raw/0016/20131016_142336/MR/005.t1_mprage_3D_sag/files/PROJ0103_SUBJ0016_SER005_ACQ00001_IMG00132.dcm',\n",
       "  '/projects/MINDLAB2013_01-MEG-AttentionEmotionVisualTracking/raw/0016/20131016_142336/MR/005.t1_mprage_3D_sag/files/PROJ0103_SUBJ0016_SER005_ACQ00001_IMG00133.dcm',\n",
       "  '/projects/MINDLAB2013_01-MEG-AttentionEmotionVisualTracking/raw/0016/20131016_142336/MR/005.t1_mprage_3D_sag/files/PROJ0103_SUBJ0016_SER005_ACQ00001_IMG00134.dcm',\n",
       "  '/projects/MINDLAB2013_01-MEG-AttentionEmotionVisualTracking/raw/0016/20131016_142336/MR/005.t1_mprage_3D_sag/files/PROJ0103_SUBJ0016_SER005_ACQ00001_IMG00135.dcm',\n",
       "  '/projects/MINDLAB2013_01-MEG-AttentionEmotionVisualTracking/raw/0016/20131016_142336/MR/005.t1_mprage_3D_sag/files/PROJ0103_SUBJ0016_SER005_ACQ00001_IMG00136.dcm',\n",
       "  '/projects/MINDLAB2013_01-MEG-AttentionEmotionVisualTracking/raw/0016/20131016_142336/MR/005.t1_mprage_3D_sag/files/PROJ0103_SUBJ0016_SER005_ACQ00001_IMG00137.dcm',\n",
       "  '/projects/MINDLAB2013_01-MEG-AttentionEmotionVisualTracking/raw/0016/20131016_142336/MR/005.t1_mprage_3D_sag/files/PROJ0103_SUBJ0016_SER005_ACQ00001_IMG00138.dcm',\n",
       "  '/projects/MINDLAB2013_01-MEG-AttentionEmotionVisualTracking/raw/0016/20131016_142336/MR/005.t1_mprage_3D_sag/files/PROJ0103_SUBJ0016_SER005_ACQ00001_IMG00139.dcm',\n",
       "  '/projects/MINDLAB2013_01-MEG-AttentionEmotionVisualTracking/raw/0016/20131016_142336/MR/005.t1_mprage_3D_sag/files/PROJ0103_SUBJ0016_SER005_ACQ00001_IMG00140.dcm',\n",
       "  '/projects/MINDLAB2013_01-MEG-AttentionEmotionVisualTracking/raw/0016/20131016_142336/MR/005.t1_mprage_3D_sag/files/PROJ0103_SUBJ0016_SER005_ACQ00001_IMG00141.dcm',\n",
       "  '/projects/MINDLAB2013_01-MEG-AttentionEmotionVisualTracking/raw/0016/20131016_142336/MR/005.t1_mprage_3D_sag/files/PROJ0103_SUBJ0016_SER005_ACQ00001_IMG00142.dcm',\n",
       "  '/projects/MINDLAB2013_01-MEG-AttentionEmotionVisualTracking/raw/0016/20131016_142336/MR/005.t1_mprage_3D_sag/files/PROJ0103_SUBJ0016_SER005_ACQ00001_IMG00143.dcm',\n",
       "  '/projects/MINDLAB2013_01-MEG-AttentionEmotionVisualTracking/raw/0016/20131016_142336/MR/005.t1_mprage_3D_sag/files/PROJ0103_SUBJ0016_SER005_ACQ00001_IMG00144.dcm',\n",
       "  '/projects/MINDLAB2013_01-MEG-AttentionEmotionVisualTracking/raw/0016/20131016_142336/MR/005.t1_mprage_3D_sag/files/PROJ0103_SUBJ0016_SER005_ACQ00001_IMG00145.dcm',\n",
       "  '/projects/MINDLAB2013_01-MEG-AttentionEmotionVisualTracking/raw/0016/20131016_142336/MR/005.t1_mprage_3D_sag/files/PROJ0103_SUBJ0016_SER005_ACQ00001_IMG00146.dcm',\n",
       "  '/projects/MINDLAB2013_01-MEG-AttentionEmotionVisualTracking/raw/0016/20131016_142336/MR/005.t1_mprage_3D_sag/files/PROJ0103_SUBJ0016_SER005_ACQ00001_IMG00147.dcm',\n",
       "  '/projects/MINDLAB2013_01-MEG-AttentionEmotionVisualTracking/raw/0016/20131016_142336/MR/005.t1_mprage_3D_sag/files/PROJ0103_SUBJ0016_SER005_ACQ00001_IMG00148.dcm',\n",
       "  '/projects/MINDLAB2013_01-MEG-AttentionEmotionVisualTracking/raw/0016/20131016_142336/MR/005.t1_mprage_3D_sag/files/PROJ0103_SUBJ0016_SER005_ACQ00001_IMG00149.dcm',\n",
       "  '/projects/MINDLAB2013_01-MEG-AttentionEmotionVisualTracking/raw/0016/20131016_142336/MR/005.t1_mprage_3D_sag/files/PROJ0103_SUBJ0016_SER005_ACQ00001_IMG00150.dcm',\n",
       "  '/projects/MINDLAB2013_01-MEG-AttentionEmotionVisualTracking/raw/0016/20131016_142336/MR/005.t1_mprage_3D_sag/files/PROJ0103_SUBJ0016_SER005_ACQ00001_IMG00151.dcm',\n",
       "  '/projects/MINDLAB2013_01-MEG-AttentionEmotionVisualTracking/raw/0016/20131016_142336/MR/005.t1_mprage_3D_sag/files/PROJ0103_SUBJ0016_SER005_ACQ00001_IMG00152.dcm',\n",
       "  '/projects/MINDLAB2013_01-MEG-AttentionEmotionVisualTracking/raw/0016/20131016_142336/MR/005.t1_mprage_3D_sag/files/PROJ0103_SUBJ0016_SER005_ACQ00001_IMG00153.dcm',\n",
       "  '/projects/MINDLAB2013_01-MEG-AttentionEmotionVisualTracking/raw/0016/20131016_142336/MR/005.t1_mprage_3D_sag/files/PROJ0103_SUBJ0016_SER005_ACQ00001_IMG00154.dcm',\n",
       "  '/projects/MINDLAB2013_01-MEG-AttentionEmotionVisualTracking/raw/0016/20131016_142336/MR/005.t1_mprage_3D_sag/files/PROJ0103_SUBJ0016_SER005_ACQ00001_IMG00155.dcm',\n",
       "  '/projects/MINDLAB2013_01-MEG-AttentionEmotionVisualTracking/raw/0016/20131016_142336/MR/005.t1_mprage_3D_sag/files/PROJ0103_SUBJ0016_SER005_ACQ00001_IMG00156.dcm',\n",
       "  '/projects/MINDLAB2013_01-MEG-AttentionEmotionVisualTracking/raw/0016/20131016_142336/MR/005.t1_mprage_3D_sag/files/PROJ0103_SUBJ0016_SER005_ACQ00001_IMG00157.dcm',\n",
       "  '/projects/MINDLAB2013_01-MEG-AttentionEmotionVisualTracking/raw/0016/20131016_142336/MR/005.t1_mprage_3D_sag/files/PROJ0103_SUBJ0016_SER005_ACQ00001_IMG00158.dcm',\n",
       "  '/projects/MINDLAB2013_01-MEG-AttentionEmotionVisualTracking/raw/0016/20131016_142336/MR/005.t1_mprage_3D_sag/files/PROJ0103_SUBJ0016_SER005_ACQ00001_IMG00159.dcm',\n",
       "  '/projects/MINDLAB2013_01-MEG-AttentionEmotionVisualTracking/raw/0016/20131016_142336/MR/005.t1_mprage_3D_sag/files/PROJ0103_SUBJ0016_SER005_ACQ00001_IMG00160.dcm',\n",
       "  '/projects/MINDLAB2013_01-MEG-AttentionEmotionVisualTracking/raw/0016/20131016_142336/MR/005.t1_mprage_3D_sag/files/PROJ0103_SUBJ0016_SER005_ACQ00001_IMG00161.dcm',\n",
       "  '/projects/MINDLAB2013_01-MEG-AttentionEmotionVisualTracking/raw/0016/20131016_142336/MR/005.t1_mprage_3D_sag/files/PROJ0103_SUBJ0016_SER005_ACQ00001_IMG00162.dcm',\n",
       "  '/projects/MINDLAB2013_01-MEG-AttentionEmotionVisualTracking/raw/0016/20131016_142336/MR/005.t1_mprage_3D_sag/files/PROJ0103_SUBJ0016_SER005_ACQ00001_IMG00163.dcm',\n",
       "  '/projects/MINDLAB2013_01-MEG-AttentionEmotionVisualTracking/raw/0016/20131016_142336/MR/005.t1_mprage_3D_sag/files/PROJ0103_SUBJ0016_SER005_ACQ00001_IMG00164.dcm',\n",
       "  '/projects/MINDLAB2013_01-MEG-AttentionEmotionVisualTracking/raw/0016/20131016_142336/MR/005.t1_mprage_3D_sag/files/PROJ0103_SUBJ0016_SER005_ACQ00001_IMG00165.dcm',\n",
       "  '/projects/MINDLAB2013_01-MEG-AttentionEmotionVisualTracking/raw/0016/20131016_142336/MR/005.t1_mprage_3D_sag/files/PROJ0103_SUBJ0016_SER005_ACQ00001_IMG00166.dcm',\n",
       "  '/projects/MINDLAB2013_01-MEG-AttentionEmotionVisualTracking/raw/0016/20131016_142336/MR/005.t1_mprage_3D_sag/files/PROJ0103_SUBJ0016_SER005_ACQ00001_IMG00167.dcm',\n",
       "  '/projects/MINDLAB2013_01-MEG-AttentionEmotionVisualTracking/raw/0016/20131016_142336/MR/005.t1_mprage_3D_sag/files/PROJ0103_SUBJ0016_SER005_ACQ00001_IMG00168.dcm',\n",
       "  '/projects/MINDLAB2013_01-MEG-AttentionEmotionVisualTracking/raw/0016/20131016_142336/MR/005.t1_mprage_3D_sag/files/PROJ0103_SUBJ0016_SER005_ACQ00001_IMG00169.dcm',\n",
       "  '/projects/MINDLAB2013_01-MEG-AttentionEmotionVisualTracking/raw/0016/20131016_142336/MR/005.t1_mprage_3D_sag/files/PROJ0103_SUBJ0016_SER005_ACQ00001_IMG00170.dcm',\n",
       "  '/projects/MINDLAB2013_01-MEG-AttentionEmotionVisualTracking/raw/0016/20131016_142336/MR/005.t1_mprage_3D_sag/files/PROJ0103_SUBJ0016_SER005_ACQ00001_IMG00171.dcm',\n",
       "  '/projects/MINDLAB2013_01-MEG-AttentionEmotionVisualTracking/raw/0016/20131016_142336/MR/005.t1_mprage_3D_sag/files/PROJ0103_SUBJ0016_SER005_ACQ00001_IMG00172.dcm',\n",
       "  '/projects/MINDLAB2013_01-MEG-AttentionEmotionVisualTracking/raw/0016/20131016_142336/MR/005.t1_mprage_3D_sag/files/PROJ0103_SUBJ0016_SER005_ACQ00001_IMG00173.dcm',\n",
       "  '/projects/MINDLAB2013_01-MEG-AttentionEmotionVisualTracking/raw/0016/20131016_142336/MR/005.t1_mprage_3D_sag/files/PROJ0103_SUBJ0016_SER005_ACQ00001_IMG00174.dcm',\n",
       "  '/projects/MINDLAB2013_01-MEG-AttentionEmotionVisualTracking/raw/0016/20131016_142336/MR/005.t1_mprage_3D_sag/files/PROJ0103_SUBJ0016_SER005_ACQ00001_IMG00175.dcm',\n",
       "  '/projects/MINDLAB2013_01-MEG-AttentionEmotionVisualTracking/raw/0016/20131016_142336/MR/005.t1_mprage_3D_sag/files/PROJ0103_SUBJ0016_SER005_ACQ00001_IMG00176.dcm'],\n",
       " 'modality': 'MR',\n",
       " 'proj_code': 'MINDLAB2013_01-MEG-AttentionEmotionVisualTracking',\n",
       " 'series': 5,\n",
       " 'series_name': 't1_mprage_3D_sag',\n",
       " 'study': '20131016_142336',\n",
       " 'subj_id': '0016_YV7'}"
      ]
     },
     "execution_count": 7,
     "metadata": {},
     "output_type": "execute_result"
    }
   ],
   "source": [
    "iact.info"
   ]
  },
  {
   "cell_type": "code",
   "execution_count": null,
   "metadata": {
    "collapsed": true
   },
   "outputs": [],
   "source": []
  },
  {
   "cell_type": "code",
   "execution_count": null,
   "metadata": {
    "collapsed": true
   },
   "outputs": [],
   "source": []
  }
 ],
 "metadata": {
  "kernelspec": {
   "display_name": "Python 3",
   "language": "python",
   "name": "python3"
  },
  "language_info": {
   "codemirror_mode": {
    "name": "ipython",
    "version": 3
   },
   "file_extension": ".py",
   "mimetype": "text/x-python",
   "name": "python",
   "nbconvert_exporter": "python",
   "pygments_lexer": "ipython3",
   "version": "3.4.3"
  }
 },
 "nbformat": 4,
 "nbformat_minor": 0
}
