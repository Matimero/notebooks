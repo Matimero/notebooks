{
 "cells": [
  {
   "cell_type": "markdown",
   "metadata": {},
   "source": [
    "# Maxfilter analysis"
   ]
  },
  {
   "cell_type": "markdown",
   "metadata": {},
   "source": [
    "Using the June 2016-versions of `stormdb`-functionality"
   ]
  },
  {
   "cell_type": "markdown",
   "metadata": {},
   "source": [
    "## Preliminaries\n",
    "### On the naming logic for the study\n",
    "\n",
    "In the first round of analysis, the responses in blocks `vis`, `aud`, `green`, `red`, `yellow` and `blue` are to be compared at the sensor level. Therefore, we will use Maxfilter to compensate for within- and between-block differences in head position. If source space analysis is performed at a later stage, the between-block part can (and probably should) be omitted: there movement compensation to the initial head position in each block is probably most relevant."
   ]
  },
  {
   "cell_type": "markdown",
   "metadata": {},
   "source": [
    "### Output file and folder names\n",
    "\n",
    "Remember to use the project `scratch` folder for output, and make it easy to clean up!"
   ]
  },
  {
   "cell_type": "code",
   "execution_count": 1,
   "metadata": {
    "collapsed": false
   },
   "outputs": [],
   "source": [
    "from os.path import join\n",
    "proj_name = 'MINDLAB2014_MEG-Visual-Modulation-MMNm'\n",
    "scratch_folder = join('/projects', proj_name, 'scratch')\n",
    "mf_folder = join(scratch_folder, 'maxfilter')  # for maxfilter output\n",
    "scripts_folder = join('/projects', proj_name, 'scripts')\n",
    "misc_folder = join('/projects', proj_name, 'misc')\n",
    "trans_folder = join(scratch_folder, 'trans')  # for transforms"
   ]
  },
  {
   "cell_type": "markdown",
   "metadata": {},
   "source": [
    "### Use a development version of `mne-python` and `stormdb-python`\n",
    "\n",
    "This way the version of the analysis code can be kept with the scripts using them, for future reproduction of results. To get the code, and to make a \"snapshot\" of the state of the code (in case you modify anything accidentally), open a terminal in a remote desktop and (suggestion):\n",
    "\n",
    "```\n",
    "cd /projects/MINDLAB2014_MEG-Visual-Modulation-MMNm/misc\n",
    "git clone https://github.com/mne-tools/mne-python.git\n",
    "cd mne-python\n",
    "git checkout -b snapshot_20160630\n",
    "\n",
    "cd /projects/MINDLAB2014_MEG-Visual-Modulation-MMNm/misc\n",
    "git clone https://github.com/meeg-cfin/stormdb-python.git\n",
    "cd stormdb-python\n",
    "git fetch origing refactor_submit:refactor_submit\n",
    "git checkout -b refactor_submit\n",
    "```"
   ]
  },
  {
   "cell_type": "code",
   "execution_count": 2,
   "metadata": {
    "collapsed": true
   },
   "outputs": [],
   "source": [
    "# Modify path by adding the mne-python folder from scripts to the beginning.\n",
    "import sys\n",
    "sys.path = [join(misc_folder, 'mne-python'),\n",
    "            join(misc_folder, 'stormdb-python')] + sys.path"
   ]
  },
  {
   "cell_type": "markdown",
   "metadata": {},
   "source": [
    "### Load libraries\n",
    "\n",
    "In Python, we have to load what we need!"
   ]
  },
  {
   "cell_type": "code",
   "execution_count": 3,
   "metadata": {
    "collapsed": false
   },
   "outputs": [],
   "source": [
    "from stormdb.access import Query\n",
    "from stormdb.process import Maxfilter\n",
    "from mne.io import Raw\n",
    "from mne.bem import fit_sphere_to_headshape\n",
    "from mne.transforms import rotation_angles, rotation3d, write_trans\n",
    "import warnings\n",
    "import os\n",
    "import re\n",
    "import numpy as np"
   ]
  },
  {
   "cell_type": "code",
   "execution_count": 4,
   "metadata": {
    "collapsed": true
   },
   "outputs": [],
   "source": [
    "# silence mne a bit\n",
    "from mne.utils import set_log_level\n",
    "set_log_level('ERROR')"
   ]
  },
  {
   "cell_type": "markdown",
   "metadata": {},
   "source": [
    "### Constant parameters\n",
    "\n",
    "Place parameters here you might want to play with, such as tSSS buffer length and correlation limit. Output folders will be automatically generated to reflect these."
   ]
  },
  {
   "cell_type": "code",
   "execution_count": 5,
   "metadata": {
    "collapsed": true
   },
   "outputs": [],
   "source": [
    "tsss_buffer_len = 16\n",
    "tsss_corr_lim = 0.96\n",
    "# if you know that some channels are bad or flat, enter them here\n",
    "# in the form ['2511', '2241']\n",
    "static_bad_chans = ['1712', '2342'] "
   ]
  },
  {
   "cell_type": "markdown",
   "metadata": {},
   "source": [
    "### Finding the data\n",
    "\n",
    "Instead of accessing raw files directly, use the database query functions to get to files."
   ]
  },
  {
   "cell_type": "code",
   "execution_count": 6,
   "metadata": {
    "collapsed": false
   },
   "outputs": [],
   "source": [
    "qr = Query(proj_name)\n",
    "subs = qr.get_subjects()\n"
   ]
  },
  {
   "cell_type": "code",
   "execution_count": 7,
   "metadata": {
    "collapsed": false
   },
   "outputs": [
    {
     "name": "stdout",
     "output_type": "stream",
     "text": [
      "0: 0007_UVR\n",
      "1: 0008_LWW\n",
      "2: 0009_HL8\n",
      "3: 0010_YEV\n",
      "4: 0011_HQT\n",
      "5: 0012_XGT\n",
      "6: 0013_TT3\n",
      "7: 0014_JRC\n",
      "8: 0015_PGT\n",
      "9: 0016_WNJ\n",
      "10: 0017_H3P\n",
      "11: 0018_CDT\n",
      "12: 0019_AWE\n",
      "13: 0020_YMG\n",
      "14: 0021_MIS\n",
      "15: 0022_WZE\n",
      "16: 0023_FS9\n",
      "17: 0024_WU1\n",
      "18: 0025_F9E\n",
      "19: 0026_XYD\n",
      "20: 0028_OZZ\n",
      "21: 0029_XMB\n",
      "22: 0030_HT5\n",
      "23: 0031_HOF\n",
      "24: 0032_28N\n",
      "25: 0033_ACE\n",
      "26: 0034_O1V\n",
      "27: 0035_J6E\n",
      "28: 0036_DWP\n",
      "29: 0037_PPO\n",
      "30: 0038_IC8\n",
      "31: 0039_WMY\n",
      "32: 0040_ODM\n",
      "33: 0041_NDF\n",
      "34: 0042_RN0\n",
      "35: 0043_KQC\n",
      "36: 0044_F8Y\n",
      "37: 0045_MEX\n",
      "38: 0046_JYT\n",
      "39: 0047_1EY\n",
      "40: 0048_ESO\n",
      "41: 0049_NIG\n",
      "42: 0050_L2X\n",
      "43: 0051_HJY\n",
      "44: 0052_CTW\n",
      "45: 0053_BIV\n",
      "46: 0054_JMT\n",
      "47: 0055_AP4\n",
      "48: 0056_2H3\n"
     ]
    }
   ],
   "source": [
    "for ii, ss in enumerate(subs):\n",
    "    print('{0}: {1}'.format(ii, ss))"
   ]
  },
  {
   "cell_type": "code",
   "execution_count": 8,
   "metadata": {
    "collapsed": false
   },
   "outputs": [
    {
     "data": {
      "text/plain": [
       "49"
      ]
     },
     "execution_count": 8,
     "metadata": {},
     "output_type": "execute_result"
    }
   ],
   "source": [
    "len(subs)"
   ]
  },
  {
   "cell_type": "markdown",
   "metadata": {},
   "source": [
    "## Select subject\n",
    "\n",
    "Instead of writing a script that loops over subjects (could be done), this notebook requires you to select one subject at a time. The advantage is that you then sanity-check each stage before continuing. The final `submit_to_isis` commands do not block the notebook: you can immediately go forward with the next subject. New submissions will simply be added to the queue.\n",
    "\n",
    "To make this semi-automatic, the variable `cur_sub_index` will be incremented by 1 every time the `submit`-command is issued at the end of this notebook. You can also just manually set the index to what you want."
   ]
  },
  {
   "cell_type": "code",
   "execution_count": 9,
   "metadata": {
    "collapsed": true
   },
   "outputs": [],
   "source": [
    "cur_sub_index = 0  # see below for the meaning of this\n",
    "sub_specific_bad_chans = []  # empty list if no (more) bad chans"
   ]
  },
  {
   "cell_type": "code",
   "execution_count": 66,
   "metadata": {
    "collapsed": false
   },
   "outputs": [
    {
     "name": "stdout",
     "output_type": "stream",
     "text": [
      "Current subject: 0007_UVR\n"
     ]
    }
   ],
   "source": [
    "cur_sub = subs[cur_sub_index]\n",
    "print('Current subject: {sub:s}'.format(sub=cur_sub))"
   ]
  },
  {
   "cell_type": "code",
   "execution_count": null,
   "metadata": {
    "collapsed": true
   },
   "outputs": [],
   "source": [
    "# cur_sub = '0008'"
   ]
  },
  {
   "cell_type": "markdown",
   "metadata": {},
   "source": [
    "## Calculating the head positions"
   ]
  },
  {
   "cell_type": "markdown",
   "metadata": {},
   "source": [
    "Here we want to calculate the average initial head position and use movecomp to correct head motion to that origin."
   ]
  },
  {
   "cell_type": "code",
   "execution_count": 12,
   "metadata": {
    "collapsed": false,
    "scrolled": true
   },
   "outputs": [
    {
     "name": "stdout",
     "output_type": "stream",
     "text": [
      "1: /projects/MINDLAB2014_MEG-Visual-Modulation-MMNm/raw/0007/20140623_000000/MEG/002.MEG_MMN_green/files\n",
      "2: /projects/MINDLAB2014_MEG-Visual-Modulation-MMNm/raw/0007/20140623_000000/MEG/003.MEG_MMN_red/files\n",
      "3: /projects/MINDLAB2014_MEG-Visual-Modulation-MMNm/raw/0007/20140623_000000/MEG/004.MEG_MMN_vis/files\n",
      "4: /projects/MINDLAB2014_MEG-Visual-Modulation-MMNm/raw/0007/20140623_000000/MEG/005.MEG_MMN_blue/files\n",
      "5: /projects/MINDLAB2014_MEG-Visual-Modulation-MMNm/raw/0007/20140623_000000/MEG/006.MEG_MMN_aud/files\n",
      "6: /projects/MINDLAB2014_MEG-Visual-Modulation-MMNm/raw/0007/20140623_000000/MEG/007.MEG_MMN_yellow/files\n"
     ]
    }
   ],
   "source": [
    "description = '*vis|*aud|*green|*red|*yellow|*blue'\n",
    "DATAblocks = qr.filter_series(description=description, subjects=cur_sub, modalities='MEG')\n",
    "\n",
    "if len(DATAblocks) != 6:\n",
    "    raise RuntimeError('Not all 6 blocks found for {0}, please check!'.format(cur_sub))\n",
    "for ib in range(len(DATAblocks)):\n",
    "    print('{:d}: {:s}'.format(ib + 1, DATAblocks[ib]['path']))"
   ]
  },
  {
   "cell_type": "markdown",
   "metadata": {
    "collapsed": true
   },
   "source": [
    "### Find initial head positions\n",
    "\n",
    "Get device to head-transformation from the initial HPI fit at the beginning of each acquisition. This consists of a translation and rotation, which are combined in to a single transformation matrix. Since both operations are *affine transformations*, we may simply average the initial matrices to obtain the mean head position and rotation."
   ]
  },
  {
   "cell_type": "code",
   "execution_count": 13,
   "metadata": {
    "collapsed": false
   },
   "outputs": [
    {
     "name": "stdout",
     "output_type": "stream",
     "text": [
      "This filename (/raw/sorted/MINDLAB2014_MEG-Visual-Modulation-MMNm/0007/20140623_000000/MEG/002.MEG_MMN_green/files/PROJ0153_SUBJ0007_SER002_FILESNO001.fif) does not conform to MNE naming conventions. All raw files should end with raw.fif, raw_sss.fif, raw_tsss.fif, raw.fif.gz, raw_sss.fif.gz or raw_tsss.fif.gz\n",
      "This filename (/raw/sorted/MINDLAB2014_MEG-Visual-Modulation-MMNm/0007/20140623_000000/MEG/003.MEG_MMN_red/files/PROJ0153_SUBJ0007_SER003_FILESNO001.fif) does not conform to MNE naming conventions. All raw files should end with raw.fif, raw_sss.fif, raw_tsss.fif, raw.fif.gz, raw_sss.fif.gz or raw_tsss.fif.gz\n",
      "This filename (/raw/sorted/MINDLAB2014_MEG-Visual-Modulation-MMNm/0007/20140623_000000/MEG/004.MEG_MMN_vis/files/PROJ0153_SUBJ0007_SER004_FILESNO001.fif) does not conform to MNE naming conventions. All raw files should end with raw.fif, raw_sss.fif, raw_tsss.fif, raw.fif.gz, raw_sss.fif.gz or raw_tsss.fif.gz\n",
      "This filename (/raw/sorted/MINDLAB2014_MEG-Visual-Modulation-MMNm/0007/20140623_000000/MEG/005.MEG_MMN_blue/files/PROJ0153_SUBJ0007_SER005_FILESNO001.fif) does not conform to MNE naming conventions. All raw files should end with raw.fif, raw_sss.fif, raw_tsss.fif, raw.fif.gz, raw_sss.fif.gz or raw_tsss.fif.gz\n",
      "This filename (/raw/sorted/MINDLAB2014_MEG-Visual-Modulation-MMNm/0007/20140623_000000/MEG/006.MEG_MMN_aud/files/PROJ0153_SUBJ0007_SER006_FILESNO001.fif) does not conform to MNE naming conventions. All raw files should end with raw.fif, raw_sss.fif, raw_tsss.fif, raw.fif.gz, raw_sss.fif.gz or raw_tsss.fif.gz\n",
      "This filename (/raw/sorted/MINDLAB2014_MEG-Visual-Modulation-MMNm/0007/20140623_000000/MEG/007.MEG_MMN_yellow/files/PROJ0153_SUBJ0007_SER007_FILESNO001.fif) does not conform to MNE naming conventions. All raw files should end with raw.fif, raw_sss.fif, raw_tsss.fif, raw.fif.gz, raw_sss.fif.gz or raw_tsss.fif.gz\n"
     ]
    }
   ],
   "source": [
    "init_xfm = []\n",
    "init_rot = []\n",
    "for bl in DATAblocks:\n",
    "    fname = join(bl['path'], bl['files'][0])  # first file is enough\n",
    "    with warnings.catch_warnings():  # suppress some annoying warnings for now\n",
    "        warnings.simplefilter(\"ignore\")\n",
    "        info = Raw(fname, preload=False, verbose=False).info\n",
    "\n",
    "    init_xfm += [info['dev_head_t']['trans']]\n",
    "    # translations: info['dev_head_t']['trans'][:, 3][:-1]\n",
    "    init_rot += [info['dev_head_t']['trans'][:3, :3]]"
   ]
  },
  {
   "cell_type": "markdown",
   "metadata": {},
   "source": [
    "Find the average head position and calculate how far each block is from it (look for outliers)."
   ]
  },
  {
   "cell_type": "code",
   "execution_count": 14,
   "metadata": {
    "collapsed": false,
    "scrolled": true
   },
   "outputs": [],
   "source": [
    "mean_init_xfm = np.mean(np.stack(init_xfm), axis=0)  # stack, then average over new dim\n",
    "init_rot_angles = [rotation_angles(m) for m in init_rot]\n",
    "\n",
    "mean_init_rot_xfm = rotation3d(*tuple(np.mean(np.stack(init_rot_angles),\n",
    "                                              axis=0)))  # stack, then average, then make new xfm\n",
    "\n",
    "assert(np.sum(mean_init_xfm[-1]) == 1.0)  # sanity check result\n",
    "mean_trans = info['dev_head_t']  # use the last info as a template\n",
    "mean_trans['trans'] = mean_init_xfm  # replace the transformation\n",
    "mean_trans['trans'][:3, :3] = mean_init_rot_xfm  # replace the rotation part"
   ]
  },
  {
   "cell_type": "markdown",
   "metadata": {},
   "source": [
    "Plot the mean position in mm and each block's discrepancy from the mean."
   ]
  },
  {
   "cell_type": "code",
   "execution_count": 15,
   "metadata": {
    "collapsed": false,
    "scrolled": true
   },
   "outputs": [
    {
     "name": "stdout",
     "output_type": "stream",
     "text": [
      "Mean head position (device coords): (3.8, -10.7, 42.2) mm\n",
      "Block discrepancies from mean:\n",
      "\tblock 1: norm 8.2 mm (-0.3, -8.1, -1.2) mm \n",
      "\tblock 2: norm 6.4 mm (0.5, 6.4, 0.3) mm \n",
      "\tblock 3: norm 5.2 mm (0.6, 5.2, 0.2) mm \n",
      "\tblock 4: norm 15.0 mm (-1.3, -14.7, -2.6) mm \n",
      "\tblock 5: norm 5.3 mm (0.3, 5.1, 1.3) mm \n",
      "\tblock 6: norm 6.4 mm (0.1, 6.1, 2.0) mm \n"
     ]
    }
   ],
   "source": [
    "mean_init_headpos = mean_trans['trans'][:-1, -1]  # meters\n",
    "print('Mean head position (device coords): ({:.1f}, {:.1f}, {:.1f}) mm'.\\\n",
    "      format(*tuple(mean_init_headpos*1e3)))\n",
    "print('Block discrepancies from mean:')\n",
    "for ib, xfm in enumerate(init_xfm):\n",
    "    diff = 1e3 * (xfm[:-1, -1] - mean_init_headpos)\n",
    "    rmsdiff = np.linalg.norm(diff)\n",
    "    print('\\tblock {:d}: norm {:.1f} mm ({:.1f}, {:.1f}, {:.1f}) mm '.\\\n",
    "          format(ib + 1, rmsdiff, *tuple(diff)))"
   ]
  },
  {
   "cell_type": "markdown",
   "metadata": {},
   "source": [
    "Do the same for rotations"
   ]
  },
  {
   "cell_type": "code",
   "execution_count": 16,
   "metadata": {
    "collapsed": false
   },
   "outputs": [
    {
     "name": "stdout",
     "output_type": "stream",
     "text": [
      "Mean head rotations (around x, y & z axes): (6.6, -1.5, 1.0) deg\n",
      "Block discrepancies from mean:\n",
      "\tblock 1: (-0.4, -0.2, -0.0) deg \n",
      "\tblock 2: (-6.0, 1.5, -1.2) deg \n",
      "\tblock 3: (0.1, 0.7, 1.2) deg \n",
      "\tblock 4: (0.9, -0.5, -0.1) deg \n",
      "\tblock 5: (4.1, -0.1, -0.6) deg \n",
      "\tblock 6: (1.3, -1.4, 0.6) deg \n"
     ]
    }
   ],
   "source": [
    "mean_rots = rotation_angles(mean_trans['trans'][:3, :3])  # these are in radians\n",
    "mean_rots_deg = tuple([180. * rot / np.pi for rot in mean_rots])  # convert to deg\n",
    "print('Mean head rotations (around x, y & z axes): ({:.1f}, {:.1f}, {:.1f}) deg'.\\\n",
    "      format(*mean_rots_deg))\n",
    "print('Block discrepancies from mean:')\n",
    "for ib, rot in enumerate(init_rot):   \n",
    "    cur_rots = rotation_angles(rot)\n",
    "    diff = tuple([180. * cr / np.pi - mr for cr, mr in zip(cur_rots, mean_rots_deg)])\n",
    "    print('\\tblock {:d}: ({:.1f}, {:.1f}, {:.1f}) deg '.\\\n",
    "          format(ib + 1, *tuple(diff)))"
   ]
  },
  {
   "cell_type": "markdown",
   "metadata": {},
   "source": [
    "Save the new mean transformation to a file to be used later in the `maxfilter`-option `trans`."
   ]
  },
  {
   "cell_type": "code",
   "execution_count": 17,
   "metadata": {
    "collapsed": false
   },
   "outputs": [],
   "source": [
    "mean_trans_folder = join(trans_folder, cur_sub)\n",
    "if not os.path.exists(mean_trans_folder):\n",
    "    os.makedirs(mean_trans_folder)\n",
    "mean_trans_file = join(mean_trans_folder, 'allblocks_mean-trans.fif')\n",
    "write_trans(mean_trans_file, mean_trans)"
   ]
  },
  {
   "cell_type": "markdown",
   "metadata": {},
   "source": [
    "## Fit head origin for SSS expansion\n",
    "\n",
    "any info (from this study) will do, since the digitization points are the same for all blocks; take the last one from for-loop above. NB: Only use EEG locations, since head points only on face!"
   ]
  },
  {
   "cell_type": "code",
   "execution_count": 18,
   "metadata": {
    "collapsed": false
   },
   "outputs": [
    {
     "name": "stdout",
     "output_type": "stream",
     "text": [
      "Fitted sphere radius:         85.8 mm\n",
      "Origin head coordinates:      -7.2 4.7 41.9 mm\n",
      "Origin device coordinates:    -10.8 15.5 -1.9 mm\n"
     ]
    }
   ],
   "source": [
    "set_log_level('INFO')\n",
    "rad, origin_head, ori_dev = fit_sphere_to_headshape(info,\n",
    "                                                    dig_kinds='extra',\n",
    "                                                    units='mm')\n",
    "set_log_level('ERROR')"
   ]
  },
  {
   "cell_type": "markdown",
   "metadata": {},
   "source": [
    "## Initiate Maxfilter-object"
   ]
  },
  {
   "cell_type": "code",
   "execution_count": 40,
   "metadata": {
    "collapsed": false
   },
   "outputs": [],
   "source": [
    "mf = Maxfilter(proj_name, bad=static_bad_chans + sub_specific_bad_chans)"
   ]
  },
  {
   "cell_type": "markdown",
   "metadata": {},
   "source": [
    "### Build maxfilter commands for all the blocks\n",
    "\n",
    "First set some of the options (leave others as default)."
   ]
  },
  {
   "cell_type": "code",
   "execution_count": 41,
   "metadata": {
    "code_folding": [],
    "collapsed": false
   },
   "outputs": [],
   "source": [
    "mfopts = dict(\n",
    "    origin = '{:.1f} {:.1f} {:.1f}'.format(*tuple(origin_head)),  # mm\n",
    "    frame = 'head',\n",
    "    force = True,  # overwrite if needed\n",
    "    autobad = 'on',  # or use xscan first\n",
    "    st = True,  # use tSSS\n",
    "    st_buflen = tsss_buffer_len,  # parameter set in beg. of notebook\n",
    "    st_corr = tsss_corr_lim,  # parameter set in beg. of notebook\n",
    "    movecomp = True,\n",
    "    trans = mean_trans_file,  # compensate to mean initial head position (saved to file),\n",
    "                              # use None for initial head position\n",
    "    logfile = None,  # we replace this in each loop\n",
    "    hp = None,  # head positions, replace in each loop\n",
    "    n_threads = 4  # antal kerner på isis, max 12, være solidarisk!\n",
    "    )"
   ]
  },
  {
   "cell_type": "markdown",
   "metadata": {},
   "source": [
    "mne-python likes raw and raw-like (tsss) files that are part of a long (>2GB) continuous acquisition to follow the convention:\n",
    "\n",
    "1. `filename_raw_tsss.fif` (first file)\n",
    "1. `filename_raw_tsss-1.fif` (second file, etc.)\n"
   ]
  },
  {
   "cell_type": "code",
   "execution_count": 42,
   "metadata": {
    "collapsed": true
   },
   "outputs": [],
   "source": [
    "out_folder = join(mf_folder,\n",
    "                  'tsss_st{:d}_corr{:.0f}'.format(mfopts['st_buflen'],\n",
    "                                                  np.round(100 * mfopts['st_corr'])),\n",
    "                  cur_sub)\n",
    "\n",
    "# Check that output path exists\n",
    "if not os.path.exists(out_folder):\n",
    "    os.makedirs(out_folder)"
   ]
  },
  {
   "cell_type": "code",
   "execution_count": 43,
   "metadata": {
    "collapsed": false
   },
   "outputs": [],
   "source": [
    "for blockno, bl in enumerate(DATAblocks):\n",
    "    for fileno, fil in enumerate(bl['files']):\n",
    "        in_fname = join(bl['path'], bl['files'][fileno])\n",
    "        \n",
    "        series_name = re.search('(vis|aud|green|red|yellow|blue)',\n",
    "                                bl['seriename']).group(1)\n",
    "        \n",
    "        out_fname = join(out_folder, '{0}_raw_tsss.fif'.format(series_name))\n",
    "        if fileno > 0:\n",
    "            out_fname = out_fname[:-4] + '-{:d}.fif'.format(fileno)\n",
    "           \n",
    "        mfopts['logfile'] = out_fname[:-3] + 'log'\n",
    "        mfopts['hp'] = out_fname[:-3] + 'pos'\n",
    "        \n",
    "        mf.build_cmd(in_fname, out_fname, **mfopts)"
   ]
  },
  {
   "cell_type": "markdown",
   "metadata": {},
   "source": [
    "## Submit to isis for processing\n",
    "\n",
    "First check that you think sane things will happen, if you like."
   ]
  },
  {
   "cell_type": "code",
   "execution_count": 44,
   "metadata": {
    "collapsed": false
   },
   "outputs": [],
   "source": [
    "# mf.print_input_output_mapping()"
   ]
  },
  {
   "cell_type": "markdown",
   "metadata": {},
   "source": [
    "If in doubt, uncomment this line to see the actual commands that will execute:"
   ]
  },
  {
   "cell_type": "code",
   "execution_count": 45,
   "metadata": {
    "collapsed": false
   },
   "outputs": [],
   "source": [
    "# mf.commands"
   ]
  },
  {
   "cell_type": "markdown",
   "metadata": {},
   "source": [
    "### Optional: What is the cluster doing?"
   ]
  },
  {
   "cell_type": "code",
   "execution_count": 30,
   "metadata": {
    "collapsed": false
   },
   "outputs": [],
   "source": [
    "# mf.cluster.get_load()"
   ]
  },
  {
   "cell_type": "markdown",
   "metadata": {},
   "source": [
    "### Ready to rock"
   ]
  },
  {
   "cell_type": "code",
   "execution_count": 46,
   "metadata": {
    "collapsed": false
   },
   "outputs": [
    {
     "name": "stdout",
     "output_type": "stream",
     "text": [
      "Cluster job submitted, job ID: 3511710\n",
      "Cluster job submitted, job ID: 3511711\n",
      "Cluster job submitted, job ID: 3511712\n",
      "Cluster job submitted, job ID: 3511713\n",
      "Cluster job submitted, job ID: 3511714\n",
      "Cluster job submitted, job ID: 3511715\n"
     ]
    }
   ],
   "source": [
    "mf.submit()"
   ]
  },
  {
   "cell_type": "markdown",
   "metadata": {},
   "source": [
    "### Checking what's going on\n",
    "\n",
    "In a terminal:\n",
    "\n",
    "```\n",
    "qstat\n",
    "```\n",
    "\n",
    "shows all running jobs (in your name). For _every/anyone's_ jobs, run\n",
    "\n",
    "```\n",
    "qstat -u \"*\"\n",
    "```"
   ]
  },
  {
   "cell_type": "code",
   "execution_count": 61,
   "metadata": {
    "collapsed": false
   },
   "outputs": [
    {
     "name": "stdout",
     "output_type": "stream",
     "text": [
      "#1 (3511710): Waiting in the queue\n",
      "#2 (3511711): Waiting in the queue\n",
      "#3 (3511712): Waiting in the queue\n",
      "#4 (3511713): Waiting in the queue\n",
      "#5 (3511714): Waiting in the queue\n",
      "#6 (3511715): Waiting in the queue\n"
     ]
    }
   ],
   "source": [
    "mf.status"
   ]
  },
  {
   "cell_type": "markdown",
   "metadata": {},
   "source": [
    "To kill a submitted (or even running) job"
   ]
  },
  {
   "cell_type": "code",
   "execution_count": 63,
   "metadata": {
    "collapsed": false
   },
   "outputs": [
    {
     "name": "stdout",
     "output_type": "stream",
     "text": [
      "Job 3511711 killed. You must manually delete any output it may have created!\n"
     ]
    }
   ],
   "source": [
    "# mf.kill(3511711)"
   ]
  },
  {
   "cell_type": "markdown",
   "metadata": {},
   "source": [
    "To kill all submitted jobs:"
   ]
  },
  {
   "cell_type": "code",
   "execution_count": 65,
   "metadata": {
    "collapsed": false
   },
   "outputs": [],
   "source": [
    "# mf.kill()"
   ]
  },
  {
   "cell_type": "markdown",
   "metadata": {},
   "source": [
    "To kill a job in the shell:\n",
    "\n",
    "```\n",
    "qdel JOB_NUMBER\n",
    "```\n",
    "\n",
    "or for all jobs (in your name):\n",
    "\n",
    "```\n",
    "qdel *\n",
    "```"
   ]
  },
  {
   "cell_type": "code",
   "execution_count": 59,
   "metadata": {
    "collapsed": true
   },
   "outputs": [],
   "source": [
    "try:\n",
    "    mf_list\n",
    "except NameError:\n",
    "    mf_list = []\n",
    "mf_list += [mf]"
   ]
  },
  {
   "cell_type": "code",
   "execution_count": 60,
   "metadata": {
    "collapsed": false
   },
   "outputs": [
    {
     "name": "stdout",
     "output_type": "stream",
     "text": [
      "#1 (3511710): Waiting in the queue\n",
      "#2 (3511711): Waiting in the queue\n",
      "#3 (3511712): Waiting in the queue\n",
      "#4 (3511713): Waiting in the queue\n",
      "#5 (3511714): Waiting in the queue\n",
      "#6 (3511715): Waiting in the queue\n",
      "#1 (3511710): Waiting in the queue\n",
      "#2 (3511711): Waiting in the queue\n",
      "#3 (3511712): Waiting in the queue\n",
      "#4 (3511713): Waiting in the queue\n",
      "#5 (3511714): Waiting in the queue\n",
      "#6 (3511715): Waiting in the queue\n"
     ]
    }
   ],
   "source": [
    "for cur_mf in mf_list:\n",
    "    cur_mf.status"
   ]
  },
  {
   "cell_type": "code",
   "execution_count": null,
   "metadata": {
    "collapsed": true
   },
   "outputs": [],
   "source": []
  }
 ],
 "metadata": {
  "hide_input": false,
  "kernelspec": {
   "display_name": "Python 2",
   "language": "python",
   "name": "python2"
  },
  "language_info": {
   "codemirror_mode": {
    "name": "ipython",
    "version": 2
   },
   "file_extension": ".py",
   "mimetype": "text/x-python",
   "name": "python",
   "nbconvert_exporter": "python",
   "pygments_lexer": "ipython2",
   "version": "2.7.11"
  }
 },
 "nbformat": 4,
 "nbformat_minor": 0
}
